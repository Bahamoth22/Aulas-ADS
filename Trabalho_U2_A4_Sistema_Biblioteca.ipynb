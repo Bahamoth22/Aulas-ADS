{
  "nbformat": 4,
  "nbformat_minor": 0,
  "metadata": {
    "colab": {
      "provenance": [],
      "authorship_tag": "ABX9TyNnDhb0PMGguknrc9j8n8eO",
      "include_colab_link": true
    },
    "kernelspec": {
      "name": "python3",
      "display_name": "Python 3"
    },
    "language_info": {
      "name": "python"
    }
  },
  "cells": [
    {
      "cell_type": "markdown",
      "metadata": {
        "id": "view-in-github",
        "colab_type": "text"
      },
      "source": [
        "<a href=\"https://colab.research.google.com/github/William-Wagner-dev/Aulas-ADS/blob/Trabalhos/Trabalho_U2_A4_Sistema_Biblioteca.ipynb\" target=\"_parent\"><img src=\"https://colab.research.google.com/assets/colab-badge.svg\" alt=\"Open In Colab\"/></a>"
      ]
    },
    {
      "cell_type": "markdown",
      "source": [
        "BLOCO 01 - DEFININDO CLASSE"
      ],
      "metadata": {
        "id": "FJGTigsuH4QT"
      }
    },
    {
      "cell_type": "code",
      "execution_count": 39,
      "metadata": {
        "id": "YsJ01hGRHp4g"
      },
      "outputs": [],
      "source": [
        "#Classe dos livros da bilioteca\n",
        "class Livro:\n",
        "  #definiçã chaves dos parametros dos livros\n",
        "    def __init__(self, titulo, autor, genero, quantidade):\n",
        "        self.titulo = titulo\n",
        "        self.autor = autor\n",
        "        self.genero = genero\n",
        "        self.quantidade = quantidade"
      ]
    },
    {
      "cell_type": "markdown",
      "source": [
        "BLOCO 02 - CRIANDO A LISTA DE LIVROS"
      ],
      "metadata": {
        "id": "nUeIiI248Hv0"
      }
    },
    {
      "cell_type": "code",
      "source": [
        "#lista vazia para armazenamento dos objetos de classe\n",
        "\n",
        "biblioteca = []"
      ],
      "metadata": {
        "id": "3STCr2VhOrGi"
      },
      "execution_count": 40,
      "outputs": []
    },
    {
      "cell_type": "markdown",
      "source": [
        "BLOCO 03 - CRIANDO FUNÇÕES DE GERENCIAMENTO DE LIVROS"
      ],
      "metadata": {
        "id": "AjdJXX0s8PU1"
      }
    },
    {
      "cell_type": "code",
      "source": [
        "# cadastrar um livro novo\n",
        "\n",
        "def cadastrar_livro(titulo, autor, genero, quantidade):\n",
        "    livro = Livro(titulo, autor, genero, quantidade)\n",
        "    biblioteca.append(livro)\n",
        "    print(f\"Livro '{titulo}' cadastrado com sucesso!\")"
      ],
      "metadata": {
        "id": "zWshS1jOOs8r"
      },
      "execution_count": 41,
      "outputs": []
    },
    {
      "cell_type": "code",
      "source": [
        "# Cadastrando alguns livros de exemplo\n",
        "cadastrar_livro(\"O Senhor dos Anéis\", \"J.R.R. Tolkien\", \"Fantasia\", 5)\n",
        "cadastrar_livro(\"1984\", \"George Orwell\", \"Distopia\", 3)\n",
        "cadastrar_livro(\"Duna\", \"Frank Herbert\", \"Ficção Científica\", 4)\n",
        "cadastrar_livro(\"A Sociedade do Anel\", \"J.R.R. Tolkien\", \"Fantasia\", 2)\n",
        "cadastrar_livro(\"Começando a Programar em Python Para Leigos\", \"John Paul Mueller\", \"Informática\", 3)\n",
        "cadastrar_livro(\"Café com Deus Pai 2025: Porções Diárias de Transformação\", \"Junior Rostirola\", \"Espiritualidade\", 1)"
      ],
      "metadata": {
        "colab": {
          "base_uri": "https://localhost:8080/"
        },
        "id": "5Zp1ctB5Sh07",
        "outputId": "50380174-5324-4a9f-a5de-3d9a732fd680"
      },
      "execution_count": 42,
      "outputs": [
        {
          "output_type": "stream",
          "name": "stdout",
          "text": [
            "Livro 'O Senhor dos Anéis' cadastrado com sucesso!\n",
            "Livro '1984' cadastrado com sucesso!\n",
            "Livro 'Duna' cadastrado com sucesso!\n",
            "Livro 'A Sociedade do Anel' cadastrado com sucesso!\n",
            "Livro 'Começando a Programar em Python Para Leigos' cadastrado com sucesso!\n",
            "Livro 'Café com Deus Pai 2025: Porções Diárias de Transformação' cadastrado com sucesso!\n"
          ]
        }
      ]
    },
    {
      "cell_type": "code",
      "source": [
        "#listar livros\n",
        "\n",
        "def listar_livros():\n",
        "    if not biblioteca:\n",
        "        print(\"A biblioteca está vazia.\")\n",
        "    else:\n",
        "        print(\"\\n--- Livros disponíveis atualmente ---\")\n",
        "        for livro in biblioteca:\n",
        "            print(f\"Título: {livro.titulo}, Autor: {livro.autor}, Gênero: {livro.genero}, Quantidade: {livro.quantidade}\")\n",
        "        print(\"--------------------------\")"
      ],
      "metadata": {
        "id": "GcfJUeAMPZoy"
      },
      "execution_count": 43,
      "outputs": []
    },
    {
      "cell_type": "code",
      "source": [
        "# Listando todos os livros\n",
        "\n",
        "listar_livros()"
      ],
      "metadata": {
        "colab": {
          "base_uri": "https://localhost:8080/"
        },
        "id": "9wufeJWNSi-b",
        "outputId": "54a279fe-d0e6-4843-b551-1a0b6ce85a8a"
      },
      "execution_count": 44,
      "outputs": [
        {
          "output_type": "stream",
          "name": "stdout",
          "text": [
            "\n",
            "--- Livros disponíveis atualmente ---\n",
            "Título: O Senhor dos Anéis, Autor: J.R.R. Tolkien, Gênero: Fantasia, Quantidade: 5\n",
            "Título: 1984, Autor: George Orwell, Gênero: Distopia, Quantidade: 3\n",
            "Título: Duna, Autor: Frank Herbert, Gênero: Ficção Científica, Quantidade: 4\n",
            "Título: A Sociedade do Anel, Autor: J.R.R. Tolkien, Gênero: Fantasia, Quantidade: 2\n",
            "Título: Começando a Programar em Python Para Leigos, Autor: John Paul Mueller, Gênero: Informática, Quantidade: 3\n",
            "Título: Café com Deus Pai 2025: Porções Diárias de Transformação, Autor: Junior Rostirola, Gênero: Espiritualidade, Quantidade: 1\n",
            "--------------------------\n"
          ]
        }
      ]
    },
    {
      "cell_type": "code",
      "source": [
        "#buscas livros\n",
        "\n",
        "def buscar_livro(titulo):\n",
        "    for livro in biblioteca:\n",
        "        if livro.titulo.lower() == titulo.lower():\n",
        "            print(f\"\\nLivro Encontrado:\")\n",
        "            print(f\"Título: {livro.titulo}, Autor: {livro.autor}, Gênero: {livro.genero}, Quantidade: {livro.quantidade}\")\n",
        "            return\n",
        "    print(f\"\\nLivro com o título '{titulo}' não encontrado.\")"
      ],
      "metadata": {
        "id": "Hkk-uonJQ4nU"
      },
      "execution_count": 45,
      "outputs": []
    },
    {
      "cell_type": "code",
      "source": [
        "# Buscando um livro\n",
        "\n",
        "buscar_livro(\"duna\")\n",
        "buscar_livro(\"harry potter\")"
      ],
      "metadata": {
        "colab": {
          "base_uri": "https://localhost:8080/"
        },
        "id": "BmR5nOj-Sn-G",
        "outputId": "b7b99d4e-91a0-4af3-b838-c4bb3204afde"
      },
      "execution_count": 46,
      "outputs": [
        {
          "output_type": "stream",
          "name": "stdout",
          "text": [
            "\n",
            "Livro Encontrado:\n",
            "Título: Duna, Autor: Frank Herbert, Gênero: Ficção Científica, Quantidade: 4\n",
            "\n",
            "Livro com o título 'harry potter' não encontrado.\n"
          ]
        }
      ]
    },
    {
      "cell_type": "markdown",
      "source": [
        "BLOCO 04 - INSTALANDO O MATPLOTLIB"
      ],
      "metadata": {
        "id": "xX7q47a58XWK"
      }
    },
    {
      "cell_type": "code",
      "source": [
        "#instalando o matplotlib\n",
        "!pip install -q --upgrade matplotlib"
      ],
      "metadata": {
        "id": "yAIRcU6XRb8p"
      },
      "execution_count": 47,
      "outputs": []
    },
    {
      "cell_type": "markdown",
      "source": [
        "BLOCO 05 - IMPOTANDO MATPLOTLIB E GERANDO O CRAFICO"
      ],
      "metadata": {
        "id": "pOL9_LSIEg8q"
      }
    },
    {
      "cell_type": "code",
      "source": [
        "#importando marplotlib\n",
        "\n",
        "import matplotlib.pyplot as plt\n",
        "\n",
        "# criação de um dicionario para armazenagem da contagem de livros\n",
        "def gerar_grafico_por_genero():\n",
        "    if not biblioteca:\n",
        "        print(\"A biblioteca está vazia. Não é possível gerar o gráfico.\")\n",
        "        return\n",
        "\n",
        "    generos_contagem = {}\n",
        "    for livro in biblioteca:\n",
        "        genero = livro.genero\n",
        "        if genero in generos_contagem:\n",
        "            generos_contagem[genero] += livro.quantidade\n",
        "        else:\n",
        "            generos_contagem[genero] = livro.quantidade\n",
        "\n",
        "    generos = list(generos_contagem.keys())\n",
        "    quantidades = list(generos_contagem.values())\n",
        "\n",
        "#criação de um grafico em barras\n",
        "    plt.figure(figsize=(10, 6))\n",
        "    plt.bar(generos, quantidades, color='royalblue')\n",
        "    plt.title('Quantidade de Livros por Gênero')\n",
        "    plt.xlabel('Gênero')\n",
        "    plt.ylabel('Quantidade Total')\n",
        "    plt.show()"
      ],
      "metadata": {
        "id": "-aYBgkb-Rb6F"
      },
      "execution_count": 48,
      "outputs": []
    },
    {
      "cell_type": "code",
      "source": [
        "# Gerando o gráfico (certifique-se de que a biblioteca está instalada)\n",
        "gerar_grafico_por_genero()"
      ],
      "metadata": {
        "colab": {
          "base_uri": "https://localhost:8080/",
          "height": 565
        },
        "id": "Bbd8lBpjRzKw",
        "outputId": "bef9219c-0c9a-454c-fd4f-f7ae08787e46"
      },
      "execution_count": 49,
      "outputs": [
        {
          "output_type": "display_data",
          "data": {
            "text/plain": [
              "<Figure size 1000x600 with 1 Axes>"
            ],
            "image/png": "[encoded data removed]"
          },
          "metadata": {}
        }
      ]
    },
    {
      "cell_type": "markdown",
      "source": [
        "BLOCO 05 - TEXTANDO O SISTEMA"
      ],
      "metadata": {
        "id": "m1-kIXBv8rQY"
      }
    }
  ]
}