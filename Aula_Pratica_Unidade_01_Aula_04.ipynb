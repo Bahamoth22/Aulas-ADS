{
  "nbformat": 4,
  "nbformat_minor": 0,
  "metadata": {
    "colab": {
      "provenance": [],
      "authorship_tag": "ABX9TyMSJFuaLbDusqf1dSGkoXpF",
      "include_colab_link": true
    },
    "kernelspec": {
      "name": "python3",
      "display_name": "Python 3"
    },
    "language_info": {
      "name": "python"
    }
  },
  "cells": [
    {
      "cell_type": "markdown",
      "metadata": {
        "id": "view-in-github",
        "colab_type": "text"
      },
      "source": [
        "<a href=\"https://colab.research.google.com/github/Bahamoth22/Aulas-ADS/blob/main/Aula_Pratica_Unidade_01_Aula_04.ipynb\" target=\"_parent\"><img src=\"https://colab.research.google.com/assets/colab-badge.svg\" alt=\"Open In Colab\"/></a>"
      ]
    },
    {
      "cell_type": "code",
      "execution_count": 1,
      "metadata": {
        "colab": {
          "base_uri": "https://localhost:8080/"
        },
        "id": "vriIyy0jOcOm",
        "outputId": "78c801ef-ff50-46d3-dd35-17d0b15d8236"
      },
      "outputs": [
        {
          "name": "stdout",
          "output_type": "stream",
          "text": [
            "Digite o nome do aluno: William Wagner\n"
          ]
        }
      ],
      "source": [
        "#bloco 01 - Nome do aluno\n",
        "\n",
        "nome = input(\"Digite o nome do aluno: \")"
      ]
    },
    {
      "cell_type": "code",
      "source": [
        "#bloco 02 - inclusão das notas individuais.\n",
        "\n",
        "Nota_01 = int(input(\"Digite a nota da prova 01: \"))\n",
        "Nota_02 = int(input(\"Digite a nota da prova 02: \"))\n",
        "Nota_03 = int(input(\"Digite a nota da prova 03: \"))\n",
        "Nota_04 = int(input(\"Digite a nota da prova 04: \"))"
      ],
      "metadata": {
        "colab": {
          "base_uri": "https://localhost:8080/"
        },
        "id": "_ZHOD0ySOpN6",
        "outputId": "a510e8be-c6fe-493c-8a76-b721c948fd89"
      },
      "execution_count": 2,
      "outputs": [
        {
          "name": "stdout",
          "output_type": "stream",
          "text": [
            "Digite a nota da prova 01: 5\n",
            "Digite a nota da prova 02: 10\n",
            "Digite a nota da prova 03: 9\n",
            "Digite a nota da prova 04: 7\n"
          ]
        }
      ]
    },
    {
      "cell_type": "code",
      "source": [
        "#bloco 03 - calculo da média das notas do aluno.\n",
        "\n",
        "media = (Nota_01 + Nota_02 + Nota_03 + Nota_04) / 4\n"
      ],
      "metadata": {
        "id": "RyoVMCXMOpSa"
      },
      "execution_count": 3,
      "outputs": []
    },
    {
      "cell_type": "code",
      "source": [
        "#bloco 04 - definição de aprovação ou reprovação do aluno\n",
        "\n",
        "if media >= 7:\n",
        "  situacao = 'Aprovado'\n",
        "\n",
        "else:\n",
        "  situacao = 'Reprovado'"
      ],
      "metadata": {
        "id": "nNDqIkZ5OpVJ"
      },
      "execution_count": 4,
      "outputs": []
    },
    {
      "cell_type": "code",
      "source": [
        "# bloco 05 - aprensensação do resultado das notas.\n",
        "\n",
        "print(f\"A média das notas é: {media}\")\n",
        "print(f\"A situação do aluno é: {situacao}\")"
      ],
      "metadata": {
        "colab": {
          "base_uri": "https://localhost:8080/"
        },
        "id": "4lYnROx_OpYB",
        "outputId": "0a5cf6cd-6ab0-4254-df65-81c29df8c0be"
      },
      "execution_count": 5,
      "outputs": [
        {
          "output_type": "stream",
          "name": "stdout",
          "text": [
            "A média das notas é: 7.75\n",
            "A situação do aluno é: Aprovado\n"
          ]
        }
      ]
    },
    {
      "cell_type": "code",
      "source": [
        "#bloco 01 - Nome do aluno\n",
        "\n",
        "nome = input(\"Digite o nome do aluno: \")\n",
        "\n",
        "#bloco 02 - inclusão das notas individuais.\n",
        "\n",
        "Nota_01 = int(input(\"Digite a nota da prova 01: \"))\n",
        "Nota_02 = int(input(\"Digite a nota da prova 02: \"))\n",
        "Nota_03 = int(input(\"Digite a nota da prova 03: \"))\n",
        "Nota_04 = int(input(\"Digite a nota da prova 04: \"))\n",
        "\n",
        "#bloco 03 - calculo da média das notas do aluno.\n",
        "\n",
        "media = (Nota_01 + Nota_02 + Nota_03 + Nota_04) / 4\n",
        "\n",
        "#bloco 04 - definição de aprovação ou reprovação do aluno\n",
        "\n",
        "if media >= 7:\n",
        "  situacao = 'Aprovado'\n",
        "\n",
        "else:\n",
        "  situacao = 'Reprovado'\n",
        "\n",
        "\n",
        "# bloco 05 - aprensensação do resultado das notas.\n",
        "\n",
        "print(f\"A média das notas é: {media}\")\n",
        "print(f\"A situação do aluno é: {situacao}\")"
      ],
      "metadata": {
        "colab": {
          "base_uri": "https://localhost:8080/"
        },
        "id": "trbGRhiVOpah",
        "outputId": "6980049c-bbd1-403e-ad9e-9513f9004287"
      },
      "execution_count": 6,
      "outputs": [
        {
          "output_type": "stream",
          "name": "stdout",
          "text": [
            "Digite o nome do aluno: William Waner\n",
            "Digite a nota da prova 01: 5\n",
            "Digite a nota da prova 02: 8\n",
            "Digite a nota da prova 03: 10\n",
            "Digite a nota da prova 04: 9\n",
            "A média das notas é: 8.0\n",
            "A situação do aluno é: Aprovado\n"
          ]
        }
      ]
    },
    {
      "cell_type": "code",
      "source": [
        "# ==============================================================================\n",
        "# SISTEMA DE GESTÃO DE NOTAS DE ALUNOS\n",
        "# Este programa permite cadastrar notas, calcular a média, determinar a situação\n",
        "# do aluno (aprovado/reprovado) e exibir um relatório final.\n",
        "# ==============================================================================\n",
        "\n",
        "def adicionar_notas():\n",
        "    \"\"\"\n",
        "    Função para adicionar notas a uma lista.\n",
        "    O usuário pode inserir quantas notas quiser. A entrada 'fim' encerra o processo.\n",
        "    \"\"\"\n",
        "    notas = []\n",
        "    print(\"--- Cadastro de Notas ---\")\n",
        "    while True:\n",
        "        entrada = input(\"Digite a nota do aluno (ou 'fim' para terminar): \")\n",
        "        if entrada.lower() == 'fim':\n",
        "            break\n",
        "        try:\n",
        "            nota = float(entrada)\n",
        "            if 0 <= nota <= 10:\n",
        "                notas.append(nota)\n",
        "            else:\n",
        "                print(\"Por favor, digite uma nota entre 0 e 10.\")\n",
        "        except ValueError:\n",
        "            print(\"Entrada inválida. Por favor, digite um número ou 'fim'.\")\n",
        "    return notas\n",
        "\n",
        "def calcular_media(notas):\n",
        "    \"\"\"\n",
        "    Função para calcular a média de uma lista de notas.\n",
        "    Retorna 0 se a lista estiver vazia para evitar erro de divisão por zero.\n",
        "    \"\"\"\n",
        "    if not notas:\n",
        "        return 0\n",
        "    return sum(notas) / len(notas)\n",
        "\n",
        "def determinar_situacao(media):\n",
        "    \"\"\"\n",
        "    Função para determinar a situação do aluno com base na média.\n",
        "    \"\"\"\n",
        "    if media >= 7:\n",
        "        return \"APROVADO\"\n",
        "    else:\n",
        "        return \"REPROVADO\"\n",
        "\n",
        "def exibir_relatorio(notas, media, situacao):\n",
        "    \"\"\"\n",
        "    Função para exibir o relatório final do aluno.\n",
        "    \"\"\"\n",
        "    print(\"\\n--- Relatório Final ---\")\n",
        "    print(f\"Notas inseridas: {notas}\")\n",
        "    print(f\"Média das notas: {media:.2f}\") # Formata a média para duas casas decimais\n",
        "    print(f\"Situação do aluno: {situacao}\")\n",
        "\n",
        "# --- Fluxo principal do programa ---\n",
        "if __name__ == \"__main__\":\n",
        "    # 1. Cadastro de Notas\n",
        "    lista_de_notas = adicionar_notas()\n",
        "\n",
        "    # Verifica se há notas para processar\n",
        "    if lista_de_notas:\n",
        "        # 2. Cálculo da Média\n",
        "        media_final = calcular_media(lista_de_notas)\n",
        "\n",
        "        # 3. Determinação da Situação\n",
        "        situacao_aluno = determinar_situacao(media_final)\n",
        "\n",
        "        # 4. Relatório Final\n",
        "        exibir_relatorio(lista_de_notas, media_final, situacao_aluno)\n",
        "    else:\n",
        "        print(\"\\nNenhuma nota foi inserida. O relatório não pode ser gerado.\")"
      ],
      "metadata": {
        "colab": {
          "base_uri": "https://localhost:8080/"
        },
        "id": "WzLPDnJ0Opja",
        "outputId": "67836311-a2e5-4f48-f4ff-ab38b686cc6b"
      },
      "execution_count": 7,
      "outputs": [
        {
          "output_type": "stream",
          "name": "stdout",
          "text": [
            "--- Cadastro de Notas ---\n",
            "Digite a nota do aluno (ou 'fim' para terminar): 10\n",
            "Digite a nota do aluno (ou 'fim' para terminar): 5\n",
            "Digite a nota do aluno (ou 'fim' para terminar): 8\n",
            "Digite a nota do aluno (ou 'fim' para terminar): 9\n",
            "Digite a nota do aluno (ou 'fim' para terminar): fim\n",
            "\n",
            "--- Relatório Final ---\n",
            "Notas inseridas: [10.0, 5.0, 8.0, 9.0]\n",
            "Média das notas: 8.00\n",
            "Situação do aluno: APROVADO\n"
          ]
        }
      ]
    }
  ]
}