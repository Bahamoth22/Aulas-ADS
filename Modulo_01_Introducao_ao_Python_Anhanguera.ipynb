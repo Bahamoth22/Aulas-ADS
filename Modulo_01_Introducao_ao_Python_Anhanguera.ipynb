{
  "nbformat": 4,
  "nbformat_minor": 0,
  "metadata": {
    "colab": {
      "provenance": [],
      "authorship_tag": "ABX9TyMsWYNh3PBvqqdF3zCq+uwD",
      "include_colab_link": true
    },
    "kernelspec": {
      "name": "python3",
      "display_name": "Python 3"
    },
    "language_info": {
      "name": "python"
    }
  },
  "cells": [
    {
      "cell_type": "markdown",
      "metadata": {
        "id": "view-in-github",
        "colab_type": "text"
      },
      "source": [
        "<a href=\"https://colab.research.google.com/github/Bahamoth22/Aulas-ADS/blob/main/Modulo_01_Introducao_ao_Python_Anhanguera.ipynb\" target=\"_parent\"><img src=\"https://colab.research.google.com/assets/colab-badge.svg\" alt=\"Open In Colab\"/></a>"
      ]
    },
    {
      "cell_type": "markdown",
      "source": [
        "Aula 01 do Modulo de Introdução a Python. A Linguaguem Pyhton."
      ],
      "metadata": {
        "id": "bkV9cVQaBAKf"
      }
    },
    {
      "cell_type": "code",
      "execution_count": null,
      "metadata": {
        "colab": {
          "base_uri": "https://localhost:8080/"
        },
        "id": "wrCH0Dfa_9HN",
        "outputId": "98c2074c-fc66-46ad-a020-515ad511b2c8"
      },
      "outputs": [
        {
          "output_type": "stream",
          "name": "stdout",
          "text": [
            "hello world!\n"
          ]
        }
      ],
      "source": [
        "#primeiro exemplo da aula feito\n",
        "\n",
        "print(\"hello world!\")"
      ]
    },
    {
      "cell_type": "code",
      "source": [
        "x = 10\n",
        "nome = 'aluno'\n",
        "nota = 8.5\n",
        "fez_inscricao = True"
      ],
      "metadata": {
        "id": "t3veBMmVAzWl"
      },
      "execution_count": null,
      "outputs": []
    },
    {
      "cell_type": "code",
      "source": [
        "print(type('x'))"
      ],
      "metadata": {
        "colab": {
          "base_uri": "https://localhost:8080/"
        },
        "id": "yljRJwMPBkUr",
        "outputId": "9089c035-f0e5-47d4-afa5-8f8ad1cfcade"
      },
      "execution_count": null,
      "outputs": [
        {
          "output_type": "stream",
          "name": "stdout",
          "text": [
            "<class 'str'>\n"
          ]
        }
      ]
    },
    {
      "cell_type": "code",
      "source": [
        "nome = input(\"Digite seu nome:\")"
      ],
      "metadata": {
        "colab": {
          "base_uri": "https://localhost:8080/"
        },
        "id": "j_vAIK_8CbDL",
        "outputId": "9cc1b885-3d3e-47fd-843c-7e104324929e"
      },
      "execution_count": null,
      "outputs": [
        {
          "name": "stdout",
          "output_type": "stream",
          "text": [
            "Digite seu nome:William\n"
          ]
        }
      ]
    },
    {
      "cell_type": "code",
      "source": [
        "print(nome)"
      ],
      "metadata": {
        "colab": {
          "base_uri": "https://localhost:8080/"
        },
        "id": "snZY41HnCqip",
        "outputId": "5d5a4d6f-12f5-4789-8679-0394934a92a4"
      },
      "execution_count": null,
      "outputs": [
        {
          "output_type": "stream",
          "name": "stdout",
          "text": [
            "William\n"
          ]
        }
      ]
    },
    {
      "cell_type": "code",
      "source": [
        "#formatadores de caracteres\n",
        "print(f'Olá %s, bem vindo à disciplina de programação. Parabéns pelo seu primeiro hello world!' %(nome))"
      ],
      "metadata": {
        "colab": {
          "base_uri": "https://localhost:8080/"
        },
        "id": "YepFtOXQDBYm",
        "outputId": "1f49a7e8-9bbd-4a1c-e85c-01172f1c240e"
      },
      "execution_count": null,
      "outputs": [
        {
          "output_type": "stream",
          "name": "stdout",
          "text": [
            "Olá William, bem vindo à disciplina de programação. Parabéns pelo seu primeiro hello world!\n"
          ]
        }
      ]
    },
    {
      "cell_type": "code",
      "source": [
        "#formatadores com função string\n",
        "print(f'Olá (nome), bem vindo à disciplina de programação. Parabéns pelo seu primeiro hello world!')"
      ],
      "metadata": {
        "colab": {
          "base_uri": "https://localhost:8080/"
        },
        "id": "BV2aJknrDcgO",
        "outputId": "8a42face-4be2-45f0-f262-bb85b81acd3f"
      },
      "execution_count": null,
      "outputs": [
        {
          "output_type": "stream",
          "name": "stdout",
          "text": [
            "Olá (nome), bem vindo à disciplina de programação. Parabéns pelo seu primeiro hello world!\n"
          ]
        }
      ]
    },
    {
      "cell_type": "code",
      "source": [
        "#professor usou a função INT + INPUT, a INT faz com que o python não reconheça as notas como srt\n",
        "\n",
        "Nota_01 = int(input('Digite a nota da prova 01:'))\n",
        "Nota_02 = int(input('Digite a nota da prova 02:'))\n",
        "Nota_03 = int(input('Digite a nota da prova 03:'))\n",
        "Nota_04 = int(input('Digite a nota da prova 04:'))"
      ],
      "metadata": {
        "colab": {
          "base_uri": "https://localhost:8080/"
        },
        "id": "ufECsCw-DyZr",
        "outputId": "bd3aa8cd-e067-4b46-ee96-b018ce8dd404"
      },
      "execution_count": null,
      "outputs": [
        {
          "name": "stdout",
          "output_type": "stream",
          "text": [
            "Digite a nota da prova 01:8\n",
            "Digite a nota da prova 02:5\n",
            "Digite a nota da prova 03:9\n",
            "Digite a nota da prova 04:10\n"
          ]
        }
      ]
    },
    {
      "cell_type": "code",
      "source": [
        "#condição de aprovação do aluno, exemplo no video do professor\n",
        "\n",
        "media = (Nota_01+Nota_02+Nota_03+Nota_04)/4\n",
        "\n",
        "if media >= 6:\n",
        "  situacao = 'Aprovado'\n",
        "\n",
        "else:\n",
        "  situacao = 'Reprovado'"
      ],
      "metadata": {
        "id": "5ROEkCWgEyA9"
      },
      "execution_count": null,
      "outputs": []
    },
    {
      "cell_type": "code",
      "source": [
        "#dados das notas apresentadas e situacao do aluno vide aula professor\n",
        "\n",
        "print(f\"A média das notas é: {media}\")\n",
        "print(f\"A situação do aluno é: {situacao}\")\n"
      ],
      "metadata": {
        "colab": {
          "base_uri": "https://localhost:8080/"
        },
        "id": "NJyZ-5kRFfEa",
        "outputId": "57a246c7-22a6-4754-ec30-3908e3876638"
      },
      "execution_count": null,
      "outputs": [
        {
          "output_type": "stream",
          "name": "stdout",
          "text": [
            "A média das notas é: 8.0\n",
            "A situação do aluno é: Aprovado\n"
          ]
        }
      ]
    },
    {
      "cell_type": "markdown",
      "source": [
        "Aula 02 - Estruturas condicionais em Python"
      ],
      "metadata": {
        "id": "adTfYuSOGpAJ"
      }
    },
    {
      "cell_type": "code",
      "source": [
        "1>2"
      ],
      "metadata": {
        "id": "JAZFgcg6GohX",
        "colab": {
          "base_uri": "https://localhost:8080/"
        },
        "outputId": "19b12112-54da-4079-de6c-6fc7d19178c7"
      },
      "execution_count": null,
      "outputs": [
        {
          "output_type": "execute_result",
          "data": {
            "text/plain": [
              "False"
            ]
          },
          "metadata": {},
          "execution_count": 11
        }
      ]
    },
    {
      "cell_type": "code",
      "source": [
        " 2 == 2"
      ],
      "metadata": {
        "colab": {
          "base_uri": "https://localhost:8080/"
        },
        "id": "DgKtsmdgew1Z",
        "outputId": "2c816eb0-e4b4-4435-e190-06177d9b2b06"
      },
      "execution_count": null,
      "outputs": [
        {
          "output_type": "execute_result",
          "data": {
            "text/plain": [
              "True"
            ]
          },
          "metadata": {},
          "execution_count": 12
        }
      ]
    },
    {
      "cell_type": "code",
      "source": [
        "a = 'aluno'\n",
        "b = 'aluna'\n",
        "\n",
        "a is b"
      ],
      "metadata": {
        "colab": {
          "base_uri": "https://localhost:8080/"
        },
        "id": "WArdR7k5e68x",
        "outputId": "750ed200-c2f5-42a9-83f4-dfc5fedd51a1"
      },
      "execution_count": null,
      "outputs": [
        {
          "output_type": "execute_result",
          "data": {
            "text/plain": [
              "False"
            ]
          },
          "metadata": {},
          "execution_count": 13
        }
      ]
    },
    {
      "cell_type": "code",
      "source": [
        "a = 'aluna'\n",
        "b = 'aluna'\n",
        "\n",
        "a is b"
      ],
      "metadata": {
        "id": "LlhAhOnXfJw0",
        "colab": {
          "base_uri": "https://localhost:8080/"
        },
        "outputId": "0351858d-2415-47dc-e1c3-f3afa03fc297"
      },
      "execution_count": null,
      "outputs": [
        {
          "output_type": "execute_result",
          "data": {
            "text/plain": [
              "True"
            ]
          },
          "metadata": {},
          "execution_count": 14
        }
      ]
    },
    {
      "cell_type": "code",
      "source": [
        "idade = 35\n",
        "\n",
        "if idade < 18:\n",
        "  print('Menor de idade')\n",
        "elif idade >= 18 and idade < 65:\n",
        "  print('Adulto')\n",
        "else:\n",
        "  print('Idoso')"
      ],
      "metadata": {
        "colab": {
          "base_uri": "https://localhost:8080/"
        },
        "id": "X-ootvduISbb",
        "outputId": "792802cc-f7b4-48b0-b8ac-3168d075c96c"
      },
      "execution_count": null,
      "outputs": [
        {
          "output_type": "stream",
          "name": "stdout",
          "text": [
            "Adulto\n"
          ]
        }
      ]
    },
    {
      "cell_type": "code",
      "source": [
        "#Maquina de compras automaticas de filmes por faixa etária.\n",
        "\n",
        "# Selecionar a idade.\n",
        "\n",
        "idade = int(input('Por favor, digite sua idade:'))\n",
        "\n",
        "\n",
        "# Selecione o filme disponível.\n",
        "\n",
        "if idade < 12:\n",
        "\n",
        "    print('Recomendamos o filme infantil: Patrulha Canina: OS Super Filhotes.')\n",
        "\n",
        "elif 12 <= idade < 18:\n",
        "\n",
        "    print('Recomendamos o filme juvenil: Como trainar seu Dragão.')\n",
        "\n",
        "else:\n",
        "\n",
        "    print('Recomendamos o filme: Demon Slayer: O castelo infinito Parte 1.')\n",
        "\n",
        "# Verifica a disponibilidade de ingressos\n",
        "\n",
        "quantidade_ingressos = 10  # Suponha que haja 10 ingressos disponíveis\n",
        "\n",
        "if quantidade_ingressos > 0:\n",
        "\n",
        "    print('Ingressos estão disponíveis. Divirta-se no cinema!')\n",
        "\n",
        "else:\n",
        "\n",
        "    print('Pedimos nossas mais sinceras desculpas, todos os ingressos estão esgotados para hoje.')\n",
        "\n",
        "\n"
      ],
      "metadata": {
        "colab": {
          "base_uri": "https://localhost:8080/"
        },
        "id": "W-lauey2IswW",
        "outputId": "9a1eb4c1-1ce7-4d70-945b-c6513d877840"
      },
      "execution_count": null,
      "outputs": [
        {
          "output_type": "stream",
          "name": "stdout",
          "text": [
            "Por favor, digite sua idade:35\n",
            "Recomendamos o filme: Demon Slayer: O castelo infinito Parte 1.\n",
            "Ingressos estão disponíveis. Divirta-se no cinema!\n"
          ]
        }
      ]
    },
    {
      "cell_type": "markdown",
      "source": [
        "Aula 03 - Estruturas de repetição em python"
      ],
      "metadata": {
        "id": "sUZcQVj9oz0k"
      }
    },
    {
      "cell_type": "code",
      "source": [
        "numeros = [1, 2, 3, 4, 5]\n",
        "for num in numeros:\n",
        "  print(num)\n"
      ],
      "metadata": {
        "colab": {
          "base_uri": "https://localhost:8080/"
        },
        "id": "P6d6tH6OozlM",
        "outputId": "f214f2c8-64e0-4f28-a46b-286d309bbe87"
      },
      "execution_count": null,
      "outputs": [
        {
          "output_type": "stream",
          "name": "stdout",
          "text": [
            "1\n",
            "2\n",
            "3\n",
            "4\n",
            "5\n"
          ]
        }
      ]
    },
    {
      "cell_type": "code",
      "source": [
        "numeros = [1, 2, 3, 4, 5]\n",
        "numeros\n"
      ],
      "metadata": {
        "colab": {
          "base_uri": "https://localhost:8080/"
        },
        "id": "jSshrKwTp2gF",
        "outputId": "7ecd2af1-9604-4531-8b1c-9b297d1be416"
      },
      "execution_count": null,
      "outputs": [
        {
          "output_type": "execute_result",
          "data": {
            "text/plain": [
              "[1, 2, 3, 4, 5]"
            ]
          },
          "metadata": {},
          "execution_count": 18
        }
      ]
    },
    {
      "cell_type": "code",
      "source": [
        "numeros"
      ],
      "metadata": {
        "colab": {
          "base_uri": "https://localhost:8080/"
        },
        "id": "Rv4o88i3qHuH",
        "outputId": "3907e6a2-aec7-4ab9-89a9-09fc825adabe"
      },
      "execution_count": null,
      "outputs": [
        {
          "output_type": "execute_result",
          "data": {
            "text/plain": [
              "[1, 2, 3, 4, 5]"
            ]
          },
          "metadata": {},
          "execution_count": 19
        }
      ]
    },
    {
      "cell_type": "code",
      "source": [
        "for num in numeros:\n",
        "  print(num)"
      ],
      "metadata": {
        "colab": {
          "base_uri": "https://localhost:8080/"
        },
        "id": "Qj8Yx2nsqBsq",
        "outputId": "45a14005-e073-4677-882b-42bea398a42e"
      },
      "execution_count": null,
      "outputs": [
        {
          "output_type": "stream",
          "name": "stdout",
          "text": [
            "1\n",
            "2\n",
            "3\n",
            "4\n",
            "5\n"
          ]
        }
      ]
    },
    {
      "cell_type": "code",
      "source": [
        "numero = int(input(\"Digite um número (ou 0 para sair): \"))\n",
        "\n",
        "while numero != 0:\n",
        "  if numero % 2 == 0:\n",
        "    print(\"O número é par.\")\n",
        "  else:\n",
        "    print(\"O número é ímpar.\")\n",
        "  numero = int(input(\"Digite outro número (ou 0 para sair): \"))"
      ],
      "metadata": {
        "colab": {
          "base_uri": "https://localhost:8080/"
        },
        "id": "ydPErtCw1bEL",
        "outputId": "d0ce6152-d114-42c0-b395-a1c0b6d38764"
      },
      "execution_count": null,
      "outputs": [
        {
          "name": "stdout",
          "output_type": "stream",
          "text": [
            "Digite um número (ou 0 para sair): 2\n",
            "O número é par.\n",
            "Digite outro número (ou 0 para sair): 5\n",
            "O número é ímpar.\n",
            "Digite outro número (ou 0 para sair): 10\n",
            "O número é par.\n",
            "Digite outro número (ou 0 para sair): 0\n"
          ]
        }
      ]
    },
    {
      "cell_type": "code",
      "source": [
        "for x in range(5): #Repetição por quantidade: Lembrando que range sempre se inicia com 0 zero.\n",
        "  print(x)"
      ],
      "metadata": {
        "colab": {
          "base_uri": "https://localhost:8080/"
        },
        "id": "Y7WFiFr336u1",
        "outputId": "50e0f72f-72e8-4a7a-edf8-8cac9df0d57e"
      },
      "execution_count": null,
      "outputs": [
        {
          "output_type": "stream",
          "name": "stdout",
          "text": [
            "0\n",
            "1\n",
            "2\n",
            "3\n",
            "4\n"
          ]
        }
      ]
    },
    {
      "cell_type": "code",
      "source": [
        "for y in range(2, 7): #Repetição por limite inicial e superior: O primeiro numero dá inicio e o ultimo não aparece na range.\n",
        "  print(y)"
      ],
      "metadata": {
        "colab": {
          "base_uri": "https://localhost:8080/"
        },
        "id": "hiwA6E-t4ToN",
        "outputId": "2a23aaa8-4f94-41f6-b71f-2bbc535f78c4"
      },
      "execution_count": null,
      "outputs": [
        {
          "output_type": "stream",
          "name": "stdout",
          "text": [
            "2\n",
            "3\n",
            "4\n",
            "5\n",
            "6\n"
          ]
        }
      ]
    },
    {
      "cell_type": "code",
      "source": [
        "for z in range(1, 11, 2): #Repetição com incremento: Se inicia com 1, não se destaca o 11 pois ele é o superior, e é colocado regra que ele pule de 2 em 2 numeros o range.\n",
        "  print(z)"
      ],
      "metadata": {
        "colab": {
          "base_uri": "https://localhost:8080/"
        },
        "id": "DkGMvbAi4mjl",
        "outputId": "061b6b1e-c0d0-4614-e82d-ac6a2daab215"
      },
      "execution_count": null,
      "outputs": [
        {
          "output_type": "stream",
          "name": "stdout",
          "text": [
            "1\n",
            "3\n",
            "5\n",
            "7\n",
            "9\n"
          ]
        }
      ]
    },
    {
      "cell_type": "code",
      "source": [
        "for numero in range(1, 11):\n",
        "  if numero % 2 == 0:\n",
        "    print(\"O primeiro número par encontrado é: \", numero )\n",
        "    break\n",
        "# é uma condição de parada, onde eu limito para o primeiro numero que aparece\n",
        "# na regra impostamm ou seja, ele break para na primera oportunidade.\n"
      ],
      "metadata": {
        "colab": {
          "base_uri": "https://localhost:8080/"
        },
        "id": "XKc8GuYW4-Tf",
        "outputId": "81d98836-ba64-45eb-d8d6-fa540478194b"
      },
      "execution_count": null,
      "outputs": [
        {
          "output_type": "stream",
          "name": "stdout",
          "text": [
            "O primeiro número par encontrado é:  2\n"
          ]
        }
      ]
    },
    {
      "cell_type": "code",
      "source": [
        "for numero in range(1, 11):\n",
        "  if numero == 5:\n",
        "    continue\n",
        "  print(numero)\n",
        "\n",
        "  #diferente do brake, aqui se segue na continuidade do código. Contudo, ele pula\n",
        "  # o numero que se coloca em codição, no caso, o 5."
      ],
      "metadata": {
        "colab": {
          "base_uri": "https://localhost:8080/"
        },
        "id": "EqbQhpDg6X92",
        "outputId": "5764acef-1099-4492-81a0-2978eedd85e7"
      },
      "execution_count": null,
      "outputs": [
        {
          "output_type": "stream",
          "name": "stdout",
          "text": [
            "1\n",
            "2\n",
            "3\n",
            "4\n",
            "6\n",
            "7\n",
            "8\n",
            "9\n",
            "10\n"
          ]
        }
      ]
    },
    {
      "cell_type": "code",
      "source": [],
      "metadata": {
        "id": "vxzX0sJr7Xlx"
      },
      "execution_count": null,
      "outputs": []
    },
    {
      "cell_type": "code",
      "source": [
        "#Maquina de avaliação de filmes por usuario.\n",
        "\n",
        "#descrição dos filmes a serem avaliados, assim como comando inicial para\n",
        "#identificação dos filmes a serem avaliados\n",
        "\n",
        "filmes = ['Patrulha Canina: Os super Filhotes',\n",
        "          'Como treinar seu Dragão',\n",
        "          'Demon Slayer: Arco do Castelo Infinito Parte 1',\n",
        "          'A Invocação do mal 4',\n",
        "          'A mordida fatal do tubarão banguela ']\n",
        "\n",
        " #instruções das prints:\n",
        "\n",
        "#primeira print é uma mensagem inicial do que estarão pedindo para o usuario fazer\n",
        "print(\"Bem-vindo à avaliação de filmes do Cinema Tilambuco!\")\n",
        "\n",
        "#a segunda print é a quantidade de variáveis presentes.\n",
        "print(\"Você foi selecionado para avaliar 5 filmes assistidos recentemente em nosso majestoso cinema!\")\n",
        "\n",
        "#a terceira print é a condição para sair do sistema, no caso o break\n",
        "print(\"Digite 0 (ZERO) para sair do sistema de avaliação\")\n",
        "\n",
        "\n",
        "#loop dos filmes descritos no inicio do código:\n",
        "for filme in filmes:\n",
        "\n",
        " #aqui o usuário seleciona a classificação dos filmes\n",
        "        classificacao = input(f'Como você classificaria o filme {filme} com uma nota de 1 a 5 (Ou digite 0 para sair): ')\n",
        "\n",
        "        if classificacao == '0':\n",
        "\n",
        "            print(f'Avaliação de {filme} interrompida.')\n",
        "\n",
        "            break  # Encerra o loop interno com \"break\"\n",
        "\n",
        "        try:\n",
        "            classificacao = int(classificacao)\n",
        "#aqui a condição de nota de 1 a 5\n",
        "            if classificacao < 1 or classificacao > 5:\n",
        "\n",
        "                print(\"Por favor, digite um número entre 1 e 5, ou 0 para sair.\")\n",
        "\n",
        "            else:\n",
        "\n",
        "                print(f'Você classificou {filme} com {classificacao} estrelas.\\n')\n",
        "\n",
        "                break  # Sai do loop interno\n",
        "        except ValueError:\n",
        "            print(\"Entrada inválida. Por favor, digite um número.\")"
      ],
      "metadata": {
        "colab": {
          "base_uri": "https://localhost:8080/"
        },
        "outputId": "d2deb83c-ad5c-4f71-f729-cf6d01cc0651",
        "id": "uOjrgyuE-jK4"
      },
      "execution_count": null,
      "outputs": [
        {
          "output_type": "stream",
          "name": "stdout",
          "text": [
            "Bem-vindo à avaliação de filmes do Cinema Tilambuco!\n",
            "Você foi selecionado para avaliar 5 filmes assistidos recentemente em nosso majestoso cinema!\n",
            "Digite 0 (ZERO) para sair do sistema de avaliação\n",
            "Como você classificaria o filme Patrulha Canina: Os super Filhotes com uma nota de 1 a 5 (Ou digite 0 para sair): 0\n",
            "Avaliação de Patrulha Canina: Os super Filhotes interrompida.\n"
          ]
        }
      ]
    },
    {
      "cell_type": "code",
      "source": [
        "00\n",
        "0\n",
        "#Maquina de avaliação de filmes por usuario.\n",
        "\n",
        "#descrição dos filmes a serem avaliados, assim como comando inicial para\n",
        "#identificação dos filmes a serem avaliados\n",
        "\n",
        "filmes = ['Patrulha Canina: Os super Filhotes',\n",
        "          'Como treinar seu Dragão',\n",
        "          'Demon Slayer: Arco do Castelo Infinito Parte 1',\n",
        "          'A Invocação do mal 4',\n",
        "          'A mordida fatal do tubarão banguela ']\n",
        "\n",
        " #instruções das prints:\n",
        "\n",
        "#primeira print é uma mensagem inicial do que estarão pedindo para o usuario fazer\n",
        "print(\"Bem-vindo à avaliação de filmes do Cinema Tilambuco!\")\n",
        "\n",
        "#a segunda print é a quantidade de variáveis presentes.\n",
        "print(\"Você foi selecionado para avaliar 5 filmes assistidos recentemente em nosso majestoso cinema!\")\n",
        "\n",
        "#a terceira print é a condição para sair do sistema, no caso o break\n",
        "print(\"Digite 0 (ZERO) para sair do sistema de avaliação\")\n",
        "\n",
        "\n",
        "#loop dos filmes descritos no inicio do código:\n",
        "for filme in filmes:\n",
        "\n",
        "#condicional que te obriga a digitar a nota para todos os filmes. Independente de se digitar o 0.\n",
        "    while True:\n",
        "\n",
        "#aqui o usuário seleciona a classificação dos filmes\n",
        "        classificacao = input(f'Como você classificaria o filme {filme} com uma nota de 1 a 5 (Ou digite 0 para sair): ')\n",
        "\n",
        "        if classificacao == '0':\n",
        "\n",
        "            print(f'Avaliação de {filme} interrompida.')\n",
        "\n",
        "            break  # Encerra o loop interno com \"break\"\n",
        "\n",
        "        try:\n",
        "            classificacao = int(classificacao)\n",
        "#aqui a condição de nota de 1 a 5\n",
        "            if classificacao < 1 or classificacao > 5:\n",
        "\n",
        "                print(\"Por favor, digite um número entre 1 e 5, ou 0 para sair.\")\n",
        "\n",
        "            else:\n",
        "\n",
        "                print(f'Você classificou {filme} com {classificacao} estrelas.\\n')\n",
        "\n",
        "                break  # Sai do loop interno\n",
        "        except ValueError:\n",
        "            print(\"Entrada inválida. Por favor, digite um número.\")"
      ],
      "metadata": {
        "colab": {
          "base_uri": "https://localhost:8080/"
        },
        "outputId": "52b56a5b-c52f-46d6-d4a1-be74d8849e49",
        "id": "yRG8MX40Eu2X"
      },
      "execution_count": null,
      "outputs": [
        {
          "output_type": "stream",
          "name": "stdout",
          "text": [
            "Bem-vindo à avaliação de filmes do Cinema Tilambuco!\n",
            "Você foi selecionado para avaliar 5 filmes assistidos recentemente em nosso majestoso cinema!\n",
            "Digite 0 (ZERO) para sair do sistema de avaliação\n",
            "Como você classificaria o filme Patrulha Canina: Os super Filhotes com uma nota de 1 a 5 (Ou digite 0 para sair): 0\n",
            "Avaliação de Patrulha Canina: Os super Filhotes interrompida.\n",
            "Como você classificaria o filme Como treinar seu Dragão com uma nota de 1 a 5 (Ou digite 0 para sair): \n",
            "Entrada inválida. Por favor, digite um número.\n",
            "Como você classificaria o filme Como treinar seu Dragão com uma nota de 1 a 5 (Ou digite 0 para sair): 0\n",
            "Avaliação de Como treinar seu Dragão interrompida.\n",
            "Como você classificaria o filme Demon Slayer: Arco do Castelo Infinito Parte 1 com uma nota de 1 a 5 (Ou digite 0 para sair): 0\n",
            "Avaliação de Demon Slayer: Arco do Castelo Infinito Parte 1 interrompida.\n",
            "Como você classificaria o filme A Invocação do mal 4 com uma nota de 1 a 5 (Ou digite 0 para sair): 0\n",
            "Avaliação de A Invocação do mal 4 interrompida.\n",
            "Como você classificaria o filme A mordida fatal do tubarão banguela  com uma nota de 1 a 5 (Ou digite 0 para sair): 0\n",
            "Avaliação de A mordida fatal do tubarão banguela  interrompida.\n"
          ]
        }
      ]
    },
    {
      "cell_type": "markdown",
      "source": [
        "Aula 04 - Funções em pyhton"
      ],
      "metadata": {
        "id": "beLzTw_nNK75"
      }
    },
    {
      "cell_type": "code",
      "source": [
        "#cria uma lista de numeros\n",
        "numeros = [1, 2, 3, 4, 5, 6, 7, 8, 9, 10, 11, 'a', True]\n",
        "\n",
        "#usar a função len() para calcular o comprimento da lista.\n",
        "comprimento = len(numeros)\n",
        "\n",
        "#imprimir o comprimento da lista\n",
        "print(\"O comprimento da lista é:\", comprimento)\n",
        "\n",
        "#a função len conta a quantidade de coisas destro de uma lista, não necessáriamente os numeros"
      ],
      "metadata": {
        "id": "zu61fvamNRH5",
        "colab": {
          "base_uri": "https://localhost:8080/"
        },
        "outputId": "7ec08d7b-d0ee-4c6d-995d-d92e6ab9d1df"
      },
      "execution_count": 2,
      "outputs": [
        {
          "output_type": "stream",
          "name": "stdout",
          "text": [
            "O comprimento da lista é: 13\n"
          ]
        }
      ]
    },
    {
      "cell_type": "code",
      "source": [
        "#função definida pelço usuário\n",
        "\n",
        "#primeira definição de usuário - função de soma\n",
        "\n",
        "def soma (a, b):\n",
        "  resultado = a + b\n",
        "  return resultado\n",
        "\n",
        "\n",
        "#nesse exemplo é uma forma que tens de comunicar ao python que uma função está sendo gerada dentro dele."
      ],
      "metadata": {
        "id": "xLv63WZzI58A"
      },
      "execution_count": 10,
      "outputs": []
    },
    {
      "cell_type": "code",
      "source": [
        "#aqui seria a aplicação da função criada anteriormente.\n",
        "\n",
        "resultado_soma = soma(121647865, 213457683)\n",
        "print(\"O resultado da soma é:\", resultado_soma)"
      ],
      "metadata": {
        "colab": {
          "base_uri": "https://localhost:8080/"
        },
        "id": "89iMBsF3J2sO",
        "outputId": "e8479c20-a80e-431c-fd52-b1ca5bd3eded"
      },
      "execution_count": 19,
      "outputs": [
        {
          "output_type": "stream",
          "name": "stdout",
          "text": [
            "O resultado da soma é: 335105548\n"
          ]
        }
      ]
    },
    {
      "cell_type": "code",
      "source": [
        "#segunda definiãõ de usuário - função de se é par\n",
        "\n",
        "def e_par(numero):\n",
        "  if numero % 2 == 0:\n",
        "    return True\n",
        "  else:\n",
        "    return False"
      ],
      "metadata": {
        "id": "acMxMKUXJpXY"
      },
      "execution_count": 18,
      "outputs": []
    },
    {
      "cell_type": "code",
      "source": [
        "numero = 2123145678669\n",
        "if e_par(numero):\n",
        "  print(f\"O número {numero} é par.\")\n",
        "else:\n",
        "  print(f\"O número {numero} é ímpar.\")"
      ],
      "metadata": {
        "colab": {
          "base_uri": "https://localhost:8080/"
        },
        "id": "A93wNE0uLFYY",
        "outputId": "33f829cb-a050-425f-8155-9da938d0ea98"
      },
      "execution_count": 21,
      "outputs": [
        {
          "output_type": "stream",
          "name": "stdout",
          "text": [
            "O número 2123145678669 é ímpar.\n"
          ]
        }
      ]
    },
    {
      "cell_type": "code",
      "source": [
        "#funções que não são definidas com \"def\", de acorco com o professor, são definições \"lambda\"\n",
        "\n",
        "#exemplo da aula\n",
        "\n",
        "soma = lambda a, b: a + b\n",
        "resultado = soma (3, 4)\n",
        "print(resultado)\n"
      ],
      "metadata": {
        "colab": {
          "base_uri": "https://localhost:8080/"
        },
        "id": "vRK0QUCwLtwU",
        "outputId": "8889bf41-15f2-4242-f5cc-6db0cf5b5fee"
      },
      "execution_count": 22,
      "outputs": [
        {
          "output_type": "stream",
          "name": "stdout",
          "text": [
            "7\n"
          ]
        }
      ]
    },
    {
      "cell_type": "code",
      "source": [
        "#exercicio de apçlicação da aula fornecido pelo professor\n",
        "\n",
        "# Lista de notas dos estudantes\n",
        "notas = [7, 8.0, 5, 7.0, 7.0]\n",
        "\n",
        "\n",
        "# Função regular para calcular a média\n",
        "def calcular_media(notas):\n",
        "    total = sum(notas)\n",
        "    media = total / len(notas)\n",
        "    return media\n",
        "\n",
        "\n",
        "# Função lambda para arredondar a média para duas casas decimais\n",
        "arredondar_media = lambda media: round(media, 2)\n",
        "\n",
        "\n",
        "# Calcular a média\n",
        "media = calcular_media(notas)\n",
        "media_arredondada = arredondar_media(media)\n",
        "\n",
        " # Verificar se os estudantes foram aprovados\n",
        "\n",
        "situacao = \"Aprovado\" if media_arredondada >= 7 else \"Reprovado\"\n",
        "\n",
        "\n",
        "# Resultados\n",
        "print(\"Notas do Estudante\", notas)\n",
        "print(\"Média do Estudante\", media_arredondada)\n",
        "print(\"Situação do Estudante\", situacao)"
      ],
      "metadata": {
        "colab": {
          "base_uri": "https://localhost:8080/"
        },
        "id": "xqLrXF71NFdz",
        "outputId": "e252e9ca-f148-4c0a-8cd0-c69d3a28be3b"
      },
      "execution_count": 31,
      "outputs": [
        {
          "output_type": "stream",
          "name": "stdout",
          "text": [
            "Notas do Estudante [7, 8.0, 5, 7.0, 7.0]\n",
            "Média do Estudante 6.8\n",
            "Situação do Estudante Reprovado\n"
          ]
        }
      ]
    },
    {
      "cell_type": "markdown",
      "source": [
        "Encerramento do Primeiro Modulo de Pyhton da Anhanguera"
      ],
      "metadata": {
        "id": "9m6UfFz1Odgz"
      }
    },
    {
      "cell_type": "code",
      "source": [
        "#restropectiva do modulo 01.\n",
        "#01 - como você pode aplicar seus conhecimentos em programação Python para criar uma calculadora de descontos?\n",
        "#02 - Quais estruturas condicionais em Pyhton você pode usar para verificar se o desconto está dentro dos limites aceitáveis?\n",
        "\n",
        "#passo 01: solicitar do usuário o valor do produto\n",
        "valor_produto = float(input(\"Digite o valor do produto: R$ \"))\n"
      ],
      "metadata": {
        "colab": {
          "base_uri": "https://localhost:8080/"
        },
        "id": "h2AeDYl_Okhf",
        "outputId": "a3748ba0-bda2-4832-d93c-27a4a7cc29f4"
      },
      "execution_count": 64,
      "outputs": [
        {
          "name": "stdout",
          "output_type": "stream",
          "text": [
            "Digite o valor do produto: R$ 200\n"
          ]
        }
      ]
    },
    {
      "cell_type": "code",
      "source": [
        "#passo 02: solicitar do usuário o valor do desconto\n",
        "\n",
        "percentual_desconto = float(input(\"Digite o percentual de desconto (sem o sinal de porcentagem): \"))"
      ],
      "metadata": {
        "colab": {
          "base_uri": "https://localhost:8080/"
        },
        "id": "RMQpEf38WP4w",
        "outputId": "a5c40ef3-84b3-4c5f-cac6-ff47b9a874cc"
      },
      "execution_count": 65,
      "outputs": [
        {
          "name": "stdout",
          "output_type": "stream",
          "text": [
            "Digite o percentual de desconto (sem o sinal de porcentagem): 30\n"
          ]
        }
      ]
    },
    {
      "cell_type": "code",
      "source": [
        "#passo 03: definição do calculo do desconto (0-100%)\n",
        "\n",
        "#primeiramente se define o percentual do desconto e se ele está dentro do aceitável\n",
        "if percentual_desconto >= 0 and percentual_desconto <= 100:\n",
        "  #calculo do desconto\n",
        "  desconto = valor_produto * (percentual_desconto / 100)\n",
        "else:\n",
        "  print(\"Percentual de desconto inválido. Por favor, digite um valor entre 0 e 100.\")"
      ],
      "metadata": {
        "id": "-5iAhTcOXN23"
      },
      "execution_count": 66,
      "outputs": []
    },
    {
      "cell_type": "code",
      "source": [
        "#passo 04: definição do valor final da compra\n",
        "\n",
        "valor_final = valor_produto - desconto"
      ],
      "metadata": {
        "id": "hW-7QP3sWgEy"
      },
      "execution_count": 67,
      "outputs": []
    },
    {
      "cell_type": "code",
      "source": [
        "#exibição do valor final da compra\n",
        "\n",
        "print(f\"O valor final da compra com desconto é: R$ {valor_final:.2f}\")"
      ],
      "metadata": {
        "colab": {
          "base_uri": "https://localhost:8080/"
        },
        "id": "XC7xRgktY1EY",
        "outputId": "a0598b19-d631-4c14-e921-4655599be4a1"
      },
      "execution_count": 68,
      "outputs": [
        {
          "output_type": "stream",
          "name": "stdout",
          "text": [
            "O valor final da compra com desconto é: R$ 140.00\n"
          ]
        }
      ]
    },
    {
      "cell_type": "markdown",
      "source": [
        "Abaixo o código do professor"
      ],
      "metadata": {
        "id": "0bAUwXwWYSpt"
      }
    },
    {
      "cell_type": "code",
      "source": [
        "# Solicita ao usuário que insira o valor do produto e o percentual de desconto\n",
        "\n",
        "valor_produto = float(input(\"Preço do produto\"))\n",
        "percentual_desconto = float(input(\"Desconto do produto\"))\n",
        "\n",
        "\n",
        "# Verifica se o percentual de desconto está dentro dos limites aceitáveis (0-100%)\n",
        "if percentual_desconto < 0 or percentual_desconto > 100:\n",
        "    print()\n",
        "else:\n",
        "    # Calcula o valor do desconto\n",
        "    desconto = valor_produto * (percentual_desconto / 100)\n",
        "\n",
        "\n",
        "    # Calcula o valor final da compra\n",
        "    valor_final = valor_produto - desconto\n",
        "\n",
        "    # Exibe o valor final da compra\n",
        "    print(f\"O valor final é: R$ {valor_final:.2f}\")\n",
        "\n",
        "#Um exemplo de resultado:\n",
        "\n",
        "#Digite o valor do produto: R$ 150\n",
        "\n",
        "#Digite o percentual de desconto: 12.5\n",
        "\n",
        "#Valor com desconto: R$ 131.25"
      ],
      "metadata": {
        "colab": {
          "base_uri": "https://localhost:8080/"
        },
        "id": "fKt4yU5ZYRP0",
        "outputId": "6489730e-a44e-49bf-facd-4bab18aaf34b"
      },
      "execution_count": 51,
      "outputs": [
        {
          "output_type": "stream",
          "name": "stdout",
          "text": [
            "Preço do produto200\n",
            "Desconto do produto20\n",
            "O valor final é: R$ 160.00\n"
          ]
        }
      ]
    },
    {
      "cell_type": "markdown",
      "source": [
        "ROTEIRO DE AULA PRATICA DO MODULO 01"
      ],
      "metadata": {
        "id": "oS__rAZmBGTx"
      }
    },
    {
      "cell_type": "code",
      "source": [
        "#bloco 01 - Nome do aluno\n",
        "\n",
        "nome = input(\"Digite o nome do aluno: \")\n"
      ],
      "metadata": {
        "colab": {
          "base_uri": "https://localhost:8080/"
        },
        "id": "LtZL1W6gLdEU",
        "outputId": "29a908bd-2108-476f-e64e-cc1e84b1c916"
      },
      "execution_count": 7,
      "outputs": [
        {
          "name": "stdout",
          "output_type": "stream",
          "text": [
            "Digite o nome do aluno: William\n"
          ]
        }
      ]
    },
    {
      "cell_type": "code",
      "source": [
        "#bloco 02 - inclusão das notas individuais.\n",
        "\n",
        "Nota_01 = int(input(\"Digite a nota da prova 01: \"))\n",
        "Nota_02 = int(input(\"Digite a nota da prova 02: \"))\n",
        "Nota_03 = int(input(\"Digite a nota da prova 03: \"))\n",
        "Nota_04 = int(input(\"Digite a nota da prova 04: \"))\n"
      ],
      "metadata": {
        "colab": {
          "base_uri": "https://localhost:8080/"
        },
        "id": "YjA6Z8U7LkOQ",
        "outputId": "d813f440-aaa0-4ea0-ddd1-165d9a584f3f"
      },
      "execution_count": 14,
      "outputs": [
        {
          "name": "stdout",
          "output_type": "stream",
          "text": [
            "Digite a nota da prova 01: 5\n",
            "Digite a nota da prova 02: 10\n",
            "Digite a nota da prova 03: 9\n",
            "Digite a nota da prova 04: 8\n"
          ]
        }
      ]
    },
    {
      "cell_type": "code",
      "source": [
        "#bloco 03 - calculo da média das notas do aluno.\n",
        "\n",
        "media = (Nota_01 + Nota_02 + Nota_03 + Nota_04) / 4\n"
      ],
      "metadata": {
        "id": "0YWj_T94L3-J"
      },
      "execution_count": 16,
      "outputs": []
    },
    {
      "cell_type": "code",
      "source": [
        "#bloco 04 - definição de aprovação ou reprovação do aluno\n",
        "\n",
        "if media >= 7:\n",
        "  situacao = 'Aprovado'\n",
        "\n",
        "else:\n",
        "  situacao = 'Reprovado'"
      ],
      "metadata": {
        "id": "wJZKHSjEMKEx"
      },
      "execution_count": 17,
      "outputs": []
    },
    {
      "cell_type": "code",
      "source": [
        "# bloco 05 - aprensensação do resultado das notas.\n",
        "\n",
        "print(f\"A média das notas é: {media}\")\n",
        "print(f\"A situação do aluno é: {situacao}\")"
      ],
      "metadata": {
        "colab": {
          "base_uri": "https://localhost:8080/"
        },
        "id": "5Jjo4v6lMUI9",
        "outputId": "0952d0b5-d81f-4096-9a1f-e7a3ddc411d8"
      },
      "execution_count": 18,
      "outputs": [
        {
          "output_type": "stream",
          "name": "stdout",
          "text": [
            "A média das notas é: 8.0\n",
            "A situação do aluno é: Aprovado\n"
          ]
        }
      ]
    },
    {
      "cell_type": "code",
      "source": [],
      "metadata": {
        "id": "pSNkw533NxvU"
      },
      "execution_count": null,
      "outputs": []
    },
    {
      "cell_type": "code",
      "source": [
        "#bloco 01 - Nome do aluno\n",
        "\n",
        "nome = input(\"Digite o nome do aluno: \")\n",
        "\n",
        "#bloco 02 - inclusão das notas individuais.\n",
        "\n",
        "Nota_01 = int(input(\"Digite a nota da prova 01: \"))\n",
        "Nota_02 = int(input(\"Digite a nota da prova 02: \"))\n",
        "Nota_03 = int(input(\"Digite a nota da prova 03: \"))\n",
        "Nota_04 = int(input(\"Digite a nota da prova 04: \"))\n",
        "\n",
        "#bloco 03 - calculo da média das notas do aluno.\n",
        "\n",
        "media = (Nota_01 + Nota_02 + Nota_03 + Nota_04) / 4\n",
        "\n",
        "#bloco 04 - definição de aprovação ou reprovação do aluno\n",
        "\n",
        "if media >= 7:\n",
        "  situacao = 'Aprovado'\n",
        "\n",
        "else:\n",
        "  situacao = 'Reprovado'\n",
        "\n",
        "\n",
        "# bloco 05 - aprensensação do resultado das notas.\n",
        "\n",
        "print(f\"A média das notas é: {media}\")\n",
        "print(f\"A situação do aluno é: {situacao}\")"
      ],
      "metadata": {
        "colab": {
          "base_uri": "https://localhost:8080/"
        },
        "outputId": "3f14b6be-5dbb-448a-ccaa-57d1f9bf7e28",
        "id": "FTcUXB1qN027"
      },
      "execution_count": 19,
      "outputs": [
        {
          "output_type": "stream",
          "name": "stdout",
          "text": [
            "Digite o nome do aluno: William Wagner\n",
            "Digite a nota da prova 01: 8\n",
            "Digite a nota da prova 02: 10\n",
            "Digite a nota da prova 03: 5\n",
            "Digite a nota da prova 04: 9\n",
            "A média das notas é: 8.0\n",
            "A situação do aluno é: Aprovado\n"
          ]
        }
      ]
    },
    {
      "cell_type": "code",
      "source": [
        "# ==============================================================================\n",
        "# SISTEMA DE GESTÃO DE NOTAS DE ALUNOS\n",
        "# Este programa permite cadastrar notas, calcular a média, determinar a situação\n",
        "# do aluno (aprovado/reprovado) e exibir um relatório final.\n",
        "# ==============================================================================\n",
        "\n",
        "def adicionar_notas():\n",
        "    \"\"\"\n",
        "    Função para adicionar notas a uma lista.\n",
        "    O usuário pode inserir quantas notas quiser. A entrada 'fim' encerra o processo.\n",
        "    \"\"\"\n",
        "    notas = []\n",
        "    print(\"--- Cadastro de Notas ---\")\n",
        "    while True:\n",
        "        entrada = input(\"Digite a nota do aluno (ou 'fim' para terminar): \")\n",
        "        if entrada.lower() == 'fim':\n",
        "            break\n",
        "        try:\n",
        "            nota = float(entrada)\n",
        "            if 0 <= nota <= 10:\n",
        "                notas.append(nota)\n",
        "            else:\n",
        "                print(\"Por favor, digite uma nota entre 0 e 10.\")\n",
        "        except ValueError:\n",
        "            print(\"Entrada inválida. Por favor, digite um número ou 'fim'.\")\n",
        "    return notas\n",
        "\n",
        "def calcular_media(notas):\n",
        "    \"\"\"\n",
        "    Função para calcular a média de uma lista de notas.\n",
        "    Retorna 0 se a lista estiver vazia para evitar erro de divisão por zero.\n",
        "    \"\"\"\n",
        "    if not notas:\n",
        "        return 0\n",
        "    return sum(notas) / len(notas)\n",
        "\n",
        "def determinar_situacao(media):\n",
        "    \"\"\"\n",
        "    Função para determinar a situação do aluno com base na média.\n",
        "    \"\"\"\n",
        "    if media >= 7:\n",
        "        return \"APROVADO\"\n",
        "    else:\n",
        "        return \"REPROVADO\"\n",
        "\n",
        "def exibir_relatorio(notas, media, situacao):\n",
        "    \"\"\"\n",
        "    Função para exibir o relatório final do aluno.\n",
        "    \"\"\"\n",
        "    print(\"\\n--- Relatório Final ---\")\n",
        "    print(f\"Notas inseridas: {notas}\")\n",
        "    print(f\"Média das notas: {media:.2f}\") # Formata a média para duas casas decimais\n",
        "    print(f\"Situação do aluno: {situacao}\")\n",
        "\n",
        "# --- Fluxo principal do programa ---\n",
        "if __name__ == \"__main__\":\n",
        "    # 1. Cadastro de Notas\n",
        "    lista_de_notas = adicionar_notas()\n",
        "\n",
        "    # Verifica se há notas para processar\n",
        "    if lista_de_notas:\n",
        "        # 2. Cálculo da Média\n",
        "        media_final = calcular_media(lista_de_notas)\n",
        "\n",
        "        # 3. Determinação da Situação\n",
        "        situacao_aluno = determinar_situacao(media_final)\n",
        "\n",
        "        # 4. Relatório Final\n",
        "        exibir_relatorio(lista_de_notas, media_final, situacao_aluno)\n",
        "    else:\n",
        "        print(\"\\nNenhuma nota foi inserida. O relatório não pode ser gerado.\")"
      ],
      "metadata": {
        "colab": {
          "base_uri": "https://localhost:8080/"
        },
        "id": "tGL2HF_6BKWT",
        "outputId": "d08f25b3-64f9-4ebe-a02e-25a857f085ce"
      },
      "execution_count": 1,
      "outputs": [
        {
          "output_type": "stream",
          "name": "stdout",
          "text": [
            "--- Cadastro de Notas ---\n",
            "Digite a nota do aluno (ou 'fim' para terminar): 10\n",
            "Digite a nota do aluno (ou 'fim' para terminar): 8\n",
            "Digite a nota do aluno (ou 'fim' para terminar): 7\n",
            "Digite a nota do aluno (ou 'fim' para terminar): 6\n",
            "Digite a nota do aluno (ou 'fim' para terminar): 5\n",
            "Digite a nota do aluno (ou 'fim' para terminar): 8\n",
            "Digite a nota do aluno (ou 'fim' para terminar): 1\n",
            "Digite a nota do aluno (ou 'fim' para terminar): 40\n",
            "Por favor, digite uma nota entre 0 e 10.\n",
            "Digite a nota do aluno (ou 'fim' para terminar): 10\n",
            "Digite a nota do aluno (ou 'fim' para terminar): fim\n",
            "\n",
            "--- Relatório Final ---\n",
            "Notas inseridas: [10.0, 8.0, 7.0, 6.0, 5.0, 8.0, 1.0, 10.0]\n",
            "Média das notas: 6.88\n",
            "Situação do aluno: REPROVADO\n"
          ]
        }
      ]
    }
  ]
}