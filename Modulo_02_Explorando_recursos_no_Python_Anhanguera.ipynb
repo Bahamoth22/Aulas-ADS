{
  "nbformat": 4,
  "nbformat_minor": 0,
  "metadata": {
    "colab": {
      "provenance": [],
      "authorship_tag": "ABX9TyPE3p9iQYrKYMAScozVUOwi",
      "include_colab_link": true
    },
    "kernelspec": {
      "name": "python3",
      "display_name": "Python 3"
    },
    "language_info": {
      "name": "python"
    }
  },
  "cells": [
    {
      "cell_type": "markdown",
      "metadata": {
        "id": "view-in-github",
        "colab_type": "text"
      },
      "source": [
        "<a href=\"https://colab.research.google.com/github/William-Wagner-dev/Aulas-ADS/blob/Principal/Modulo_02_Explorando_recursos_no_Python_Anhanguera.ipynb\" target=\"_parent\"><img src=\"https://colab.research.google.com/assets/colab-badge.svg\" alt=\"Open In Colab\"/></a>"
      ]
    },
    {
      "cell_type": "markdown",
      "source": [
        "AULA 01 - ESTRUTURAS DE DADOS EM PYTHON PARTE 1"
      ],
      "metadata": {
        "id": "MJLmmXIHpHFL"
      }
    },
    {
      "cell_type": "code",
      "execution_count": 12,
      "metadata": {
        "id": "45jOlFc5o_Wz"
      },
      "outputs": [],
      "source": [
        "#AULA DIVIDIDA EM 3 TOPICOS\n",
        "#Topico 01 - Objetos do tipo sequencia\n",
        "#topico 02 - Lista\n",
        "#topico 03 - Tuplas\n"
      ]
    },
    {
      "cell_type": "code",
      "source": [
        "#Objetos do tipo sequencias\n",
        "\n",
        "texto = (\"Explorando a diversidade de linguagens de programação com Pyhton.\")\n",
        "\n",
        "print(f\"Tamanho do texto = {len(texto)}\")\n",
        "print(f\"Python in texto = {'Python' in texto}\")\n",
        "print(f\"Quantidade de e no texto = {texto.count('e')}\")\n",
        "print(f\"As 5 primeiras letras são: {texto[:5]}\")\n"
      ],
      "metadata": {
        "id": "ts7HLKLipdqk",
        "colab": {
          "base_uri": "https://localhost:8080/"
        },
        "outputId": "aa9cec81-300b-4f39-8cf5-ff5044d786cb"
      },
      "execution_count": 13,
      "outputs": [
        {
          "output_type": "stream",
          "name": "stdout",
          "text": [
            "Tamanho do texto = 65\n",
            "Python in texto = False\n",
            "Quantidade de e no texto = 5\n",
            "As 5 primeiras letras são: Explo\n"
          ]
        }
      ]
    },
    {
      "cell_type": "code",
      "source": [
        "#Exemplo de lista\n",
        "\n",
        "cores = ['vermelho', 'azul', 'verde', 'amarelo', 'roxo']\n",
        "\n",
        "for cor in cores:\n",
        "\n",
        "    print(f'Posição = {cores.index(cor)}, cor = {cor}')\n",
        "\n"
      ],
      "metadata": {
        "colab": {
          "base_uri": "https://localhost:8080/"
        },
        "id": "nl_ag_PhhD3a",
        "outputId": "075cf37e-9832-4363-b588-3dac1254d520"
      },
      "execution_count": 14,
      "outputs": [
        {
          "output_type": "stream",
          "name": "stdout",
          "text": [
            "Posição = 0, cor = vermelho\n",
            "Posição = 1, cor = azul\n",
            "Posição = 2, cor = verde\n",
            "Posição = 3, cor = amarelo\n",
            "Posição = 4, cor = roxo\n"
          ]
        }
      ]
    },
    {
      "cell_type": "code",
      "source": [
        "#list comprehensions ou listcomps\n",
        "\n",
        "linguagens = [\"Python\", \"Java\", \"JavaScript\", \"C\", \"C#\", \"C++\", \"Swift\", \"Go\", \"Kotlin\"]\n",
        "\n",
        "print(\"Antes da listcomp = \", linguagens)\n",
        "\n",
        "linguagens = [item.lower() for item in linguagens]\n",
        "\n",
        "print(\"\\nDepois da listcomp = \", linguagens)\n",
        "\n"
      ],
      "metadata": {
        "colab": {
          "base_uri": "https://localhost:8080/"
        },
        "id": "HmakaS6jhKqp",
        "outputId": "b84f81ee-4aeb-4625-a795-5aa6ad3fc4df"
      },
      "execution_count": 15,
      "outputs": [
        {
          "output_type": "stream",
          "name": "stdout",
          "text": [
            "Antes da listcomp =  ['Python', 'Java', 'JavaScript', 'C', 'C#', 'C++', 'Swift', 'Go', 'Kotlin']\n",
            "\n",
            "Depois da listcomp =  ['python', 'java', 'javascript', 'c', 'c#', 'c++', 'swift', 'go', 'kotlin']\n"
          ]
        }
      ]
    },
    {
      "cell_type": "code",
      "source": [
        "# função map() e filter()\n",
        "\n",
        "#exemplo de função map\n",
        "\n",
        "precos_em_dolares = [100, 50, 75, 120]\n",
        "\n",
        "taxa_de_cambio = 5.25\n",
        "\n",
        "precos_em_reais = list(map(lambda x: x * taxa_de_cambio, precos_em_dolares))\n",
        "\n",
        "print(precos_em_reais)\n",
        "\n"
      ],
      "metadata": {
        "colab": {
          "base_uri": "https://localhost:8080/"
        },
        "id": "opTg2eTKhLpV",
        "outputId": "14fe21d4-c70a-45a0-9eac-de921fbfd01d"
      },
      "execution_count": 16,
      "outputs": [
        {
          "output_type": "stream",
          "name": "stdout",
          "text": [
            "[525.0, 262.5, 393.75, 630.0]\n"
          ]
        }
      ]
    },
    {
      "cell_type": "code",
      "source": [
        "#exemplo de funççao filter\n",
        "\n",
        "numeros = [1, 2, 3, 4, 5, 6, 7, 8, 9, 10]\n",
        "\n",
        "numeros_pares = list(filter(lambda x: x % 2 == 0, numeros))\n",
        "\n",
        "print(numeros_pares)\n",
        "\n"
      ],
      "metadata": {
        "colab": {
          "base_uri": "https://localhost:8080/"
        },
        "id": "Fz_1lBl6hiXP",
        "outputId": "7815d43a-cf79-48c1-b1d2-9b868f9332ca"
      },
      "execution_count": 17,
      "outputs": [
        {
          "output_type": "stream",
          "name": "stdout",
          "text": [
            "[2, 4, 6, 8, 10]\n"
          ]
        }
      ]
    },
    {
      "cell_type": "code",
      "source": [
        "#tuplas\n",
        "\n",
        "#variação 01 de tupla = Usando um par de parênteses para denotar uma tupla vazia: tupla1 = ().\n",
        "\n",
        "# Bloco 1: Tupla vazia\n",
        "tupla_vazia = ()\n",
        "print(f\"Tupla vazia: {tupla_vazia}\")\n",
        "print(f\"Tipo da variável: {type(tupla_vazia)}\")"
      ],
      "metadata": {
        "colab": {
          "base_uri": "https://localhost:8080/"
        },
        "id": "OhA05CWJhm6Y",
        "outputId": "c6982c89-9477-456b-e55a-3f3329055f00"
      },
      "execution_count": 18,
      "outputs": [
        {
          "output_type": "stream",
          "name": "stdout",
          "text": [
            "Tupla vazia: ()\n",
            "Tipo da variável: <class 'tuple'>\n"
          ]
        }
      ]
    },
    {
      "cell_type": "code",
      "source": [
        "#variação 02 - Usando um par de parênteses e elementos separados por vírgulas: tupla2 = ('a', 'b', 'c').\n",
        "\n",
        "\n",
        "# Bloco 2: Tupla com elementos\n",
        "tupla_com_elementos = ('maçã', 'banana', 'cereja')\n",
        "print(f\"Tupla com elementos: {tupla_com_elementos}\")\n",
        "print(f\"Tipo da variável: {type(tupla_com_elementos)}\")\n",
        "print(f\"Acessando o primeiro elemento: {tupla_com_elementos[0]}\")"
      ],
      "metadata": {
        "colab": {
          "base_uri": "https://localhost:8080/"
        },
        "id": "ldkfWkLIhxle",
        "outputId": "30f07876-b9b5-440c-a072-7d01c93ae1bb"
      },
      "execution_count": 19,
      "outputs": [
        {
          "output_type": "stream",
          "name": "stdout",
          "text": [
            "Tupla com elementos: ('maçã', 'banana', 'cereja')\n",
            "Tipo da variável: <class 'tuple'>\n",
            "Acessando o primeiro elemento: maçã\n"
          ]
        }
      ]
    },
    {
      "cell_type": "code",
      "source": [
        "#variação 03 - Usando o construtor de tipo tuple().\n",
        "\n",
        "# Bloco 3: Criando tupla com o construtor tuple()\n",
        "lista_para_tupla = [10, 20, 30, 40]\n",
        "tupla_do_construtor = tuple(lista_para_tupla)\n",
        "print(f\"Lista original: {lista_para_tupla}\")\n",
        "print(f\"Tupla criada a partir da lista: {tupla_do_construtor}\")\n",
        "print(f\"Tipo da variável: {type(tupla_do_construtor)}\")"
      ],
      "metadata": {
        "colab": {
          "base_uri": "https://localhost:8080/"
        },
        "id": "4sufVlxLh2sE",
        "outputId": "68aa95ba-a4e4-40e2-fcc2-fb75ee7fb93d"
      },
      "execution_count": 20,
      "outputs": [
        {
          "output_type": "stream",
          "name": "stdout",
          "text": [
            "Lista original: [10, 20, 30, 40]\n",
            "Tupla criada a partir da lista: (10, 20, 30, 40)\n",
            "Tipo da variável: <class 'tuple'>\n"
          ]
        }
      ]
    },
    {
      "cell_type": "code",
      "source": [
        "#exemplo de tupla feita pelo professor na aula.\n",
        "\n",
        "vogais = ('a', 'e', 'i', 'o', 'u')\n",
        "\n",
        "print(f\"Tipo do objeto vogais = {type(vogais)}\")\n",
        "\n",
        "for p, x in enumerate(vogais):\n",
        "\n",
        "    print(f\"Posição = {p}, valor = {x}\")\n"
      ],
      "metadata": {
        "colab": {
          "base_uri": "https://localhost:8080/"
        },
        "id": "25PbE_PIidMQ",
        "outputId": "c72bb31f-1415-4aba-a330-014c233706e7"
      },
      "execution_count": 21,
      "outputs": [
        {
          "output_type": "stream",
          "name": "stdout",
          "text": [
            "Tipo do objeto vogais = <class 'tuple'>\n",
            "Posição = 0, valor = a\n",
            "Posição = 1, valor = e\n",
            "Posição = 2, valor = i\n",
            "Posição = 3, valor = o\n",
            "Posição = 4, valor = u\n"
          ]
        }
      ]
    },
    {
      "cell_type": "markdown",
      "source": [
        "Exercicio da aula 01"
      ],
      "metadata": {
        "id": "SWgkbKwzij6T"
      }
    },
    {
      "cell_type": "code",
      "source": [
        "# Tupla de convidados\n",
        "\n",
        "convidados = (\"Alice\", \"Bob\", \"Carol\", \"David\", \"Eve\")\n",
        "\n",
        "# Lista de confirmações\n",
        "\n",
        "confirmados = [\"Bob\", \"David\"]\n",
        "\n",
        "# Identificar quem ainda não confirmou\n",
        "\n",
        "nao_confirmados = [convidado for convidado in convidados if convidado not in confirmados]\n",
        "\n",
        "# Exibir os convidados que ainda não confirmaram\n",
        "\n",
        "print(\"Convidados que ainda não confirmaram:\")\n",
        "\n",
        "for pessoa in nao_confirmados:\n",
        "\n",
        "    print(pessoa)\n",
        "\n",
        "# Enviar lembretes aos não confirmados\n",
        "\n",
        "print(\"\\nEnviando lembretes para os convidados que ainda não confirmaram.\")\n",
        "\n"
      ],
      "metadata": {
        "id": "XvUeUUQPilv4",
        "colab": {
          "base_uri": "https://localhost:8080/"
        },
        "outputId": "30f26d5b-34c3-4766-a36e-c78ce7cef2d0"
      },
      "execution_count": 22,
      "outputs": [
        {
          "output_type": "stream",
          "name": "stdout",
          "text": [
            "Convidados que ainda não confirmaram:\n",
            "Alice\n",
            "Carol\n",
            "Eve\n",
            "\n",
            "Enviando lembretes para os convidados que ainda não confirmaram.\n"
          ]
        }
      ]
    },
    {
      "cell_type": "markdown",
      "source": [
        "AULA 02 - ESTRUTURAS DE DADOS EM PYTHON - PARTE 2"
      ],
      "metadata": {
        "id": "ePIFk5FxisIC"
      }
    },
    {
      "cell_type": "code",
      "source": [
        "#Topicos da aula\n",
        "#01 - Objetos do tipo Set\n",
        "#02 - Objetos do tipo Mapping\n",
        "#03 - Objetos do tipo Array NumPy"
      ],
      "metadata": {
        "id": "CHFP9dOaU9ny"
      },
      "execution_count": 23,
      "outputs": []
    },
    {
      "cell_type": "markdown",
      "source": [
        "Objetos do tipo SET"
      ],
      "metadata": {
        "id": "eTFPoG72dPa_"
      }
    },
    {
      "cell_type": "code",
      "source": [
        "# Passo 01 - Criando um conjunto vazio\n",
        "\n",
        "meu_conjunto = set()\n",
        "\n"
      ],
      "metadata": {
        "id": "b-NFjVT6ZwZu"
      },
      "execution_count": 24,
      "outputs": []
    },
    {
      "cell_type": "code",
      "source": [
        "# Passo 02 - Adicionando elementos ao conjunto\n",
        "\n",
        "meu_conjunto.add(10)\n",
        "\n",
        "meu_conjunto.add(20)\n",
        "\n",
        "meu_conjunto.add(30)\n",
        "\n",
        "# Imprimindo o conjunto\n",
        "\n",
        "print(\"Conjunto após adicionar elementos:\", meu_conjunto)\n",
        "\n"
      ],
      "metadata": {
        "colab": {
          "base_uri": "https://localhost:8080/"
        },
        "id": "B9F3foxVbB-q",
        "outputId": "bf96b6ce-0aba-4d5c-b8d5-615ebc0ba543"
      },
      "execution_count": 25,
      "outputs": [
        {
          "output_type": "stream",
          "name": "stdout",
          "text": [
            "Conjunto após adicionar elementos: {10, 20, 30}\n"
          ]
        }
      ]
    },
    {
      "cell_type": "code",
      "source": [
        "# Passo 03 - Verificando se um elemento está no conjunto\n",
        "\n",
        "elemento = 20\n",
        "if elemento in meu_conjunto:\n",
        "    print(f\"{elemento} está no conjunto.\")\n",
        "\n",
        "else:\n",
        "    print(f\"{elemento} não está no conjunto.\")\n"
      ],
      "metadata": {
        "colab": {
          "base_uri": "https://localhost:8080/"
        },
        "id": "bHav3n8Fa0DE",
        "outputId": "e356513c-f1fb-4a13-eddc-a41b2452b1f7"
      },
      "execution_count": 26,
      "outputs": [
        {
          "output_type": "stream",
          "name": "stdout",
          "text": [
            "20 está no conjunto.\n"
          ]
        }
      ]
    },
    {
      "cell_type": "code",
      "source": [
        "# passo 04 - Removendo um elemento do conjunto\n",
        "\n",
        "meu_conjunto.remove(20)\n",
        "\n",
        "# Imprimindo o conjunto atualizado\n",
        "\n",
        "print(\"Conjunto após remover o elemento 20:\", meu_conjunto)"
      ],
      "metadata": {
        "colab": {
          "base_uri": "https://localhost:8080/"
        },
        "id": "XCvz3nvVbVWX",
        "outputId": "8017a9a2-1b1f-4623-cf88-18cee5fff719"
      },
      "execution_count": 27,
      "outputs": [
        {
          "output_type": "stream",
          "name": "stdout",
          "text": [
            "Conjunto após remover o elemento 20: {10, 30}\n"
          ]
        }
      ]
    },
    {
      "cell_type": "code",
      "source": [
        "#objetos do tipo set - codigo unificado\n",
        "\n",
        "# Criando um conjunto vazio\n",
        "\n",
        "meu_conjunto = set()\n",
        "\n",
        "# Adicionando elementos ao conjunto\n",
        "\n",
        "meu_conjunto.add(10)\n",
        "\n",
        "meu_conjunto.add(20)\n",
        "\n",
        "meu_conjunto.add(30)\n",
        "\n",
        "# Imprimindo o conjunto\n",
        "\n",
        "print(\"Conjunto após adicionar elementos:\", meu_conjunto)\n",
        "\n",
        "# Verificando se um elemento está no conjunto\n",
        "\n",
        "elemento = 20\n",
        "if elemento in meu_conjunto:\n",
        "    print(f\"{elemento} está no conjunto.\")\n",
        "\n",
        "else:\n",
        "    print(f\"{elemento} não está no conjunto.\")\n",
        "\n",
        "#  Removendo um elemento do conjunto\n",
        "\n",
        "meu_conjunto.remove(20)\n",
        "\n",
        "# Imprimindo o conjunto atualizado\n",
        "\n",
        "print(\"Conjunto após remover o elemento 20:\", meu_conjunto)"
      ],
      "metadata": {
        "colab": {
          "base_uri": "https://localhost:8080/"
        },
        "id": "r0vFTUvnbXkm",
        "outputId": "2911d0b2-4118-4be8-8ff1-f6d48423fee4"
      },
      "execution_count": 28,
      "outputs": [
        {
          "output_type": "stream",
          "name": "stdout",
          "text": [
            "Conjunto após adicionar elementos: {10, 20, 30}\n",
            "20 está no conjunto.\n",
            "Conjunto após remover o elemento 20: {10, 30}\n"
          ]
        }
      ]
    },
    {
      "cell_type": "code",
      "source": [
        "# Exemplo 1 - Criação de um dicionário vazio, seguido de atribuição de chaves e valores\n",
        "\n",
        "dici_1 = {}\n",
        "\n",
        "dici_1['nome'] = \"Maria\"\n",
        "\n",
        "dici_1['idade'] = 25"
      ],
      "metadata": {
        "id": "gH7BwKUlaU10"
      },
      "execution_count": 29,
      "outputs": []
    },
    {
      "cell_type": "code",
      "source": [
        "# Exemplo 2 - Criação de um dicionário com pares chave: valor\n",
        "\n",
        "dici_2 = {'nome': 'Maria', 'idade': 25}"
      ],
      "metadata": {
        "id": "Dw_JayGtc2QE"
      },
      "execution_count": 30,
      "outputs": []
    },
    {
      "cell_type": "code",
      "source": [
        "# Exemplo 3 - Criação de um dicionário com uma lista de tuplas representando pares chave: valor\n",
        "\n",
        "dici_3 = dict([('nome', \"Maria\"), ('idade', 25)])"
      ],
      "metadata": {
        "id": "cCo34NCQc197"
      },
      "execution_count": 31,
      "outputs": []
    },
    {
      "cell_type": "code",
      "source": [
        "# Exemplo 4 - Criação de um dicionário usando a função built-in zip() e duas listas, uma para as chaves e outra para os valores\n",
        "\n",
        "dici_4 = dict(zip(['nome', 'idade'], [\"Maria\", 25]))\n",
        "\n",
        "# Teste se todas as construções resultam em objetos iguais\n",
        "\n",
        "print(dici_1 == dici_2 == dici_3 == dici_4)  # Deve imprimir True\n",
        "\n",
        "print(dici_1)"
      ],
      "metadata": {
        "colab": {
          "base_uri": "https://localhost:8080/"
        },
        "id": "cd5PvE4ac11S",
        "outputId": "1500d432-cebe-44cb-dbac-a981a3e42ec0"
      },
      "execution_count": 32,
      "outputs": [
        {
          "output_type": "stream",
          "name": "stdout",
          "text": [
            "True\n",
            "{'nome': 'Maria', 'idade': 25}\n"
          ]
        }
      ]
    },
    {
      "cell_type": "code",
      "source": [
        "#codigo unificado\n",
        "\n",
        "dici_1 = {}\n",
        "\n",
        "dici_1['nome'] = \"Maria\"\n",
        "\n",
        "dici_1['idade'] = 25\n",
        "\n",
        "# Exemplo 2 - Criação de um dicionário com pares chave: valor\n",
        "\n",
        "dici_2 = {'nome': 'Maria', 'idade': 25}\n",
        "\n",
        "# Exemplo 3 - Criação de um dicionário com uma lista de tuplas representando pares chave: valor\n",
        "\n",
        "dici_3 = dict([('nome', \"Maria\"), ('idade', 25)])\n",
        "\n",
        "# Exemplo 4 - Criação de um dicionário usando a função built-in zip() e duas listas, uma para as chaves e outra para os valores\n",
        "\n",
        "dici_4 = dict(zip(['nome', 'idade'], [\"Maria\", 25]))\n",
        "\n",
        "# Teste se todas as construções resultam em objetos iguais\n",
        "\n",
        "print(dici_1 == dici_2 == dici_3 == dici_4)  # Deve imprimir True\n",
        "\n",
        "print(dici_1)"
      ],
      "metadata": {
        "colab": {
          "base_uri": "https://localhost:8080/"
        },
        "id": "ZIpz5U_6c6wO",
        "outputId": "020bbdf1-3cf0-49a2-f05d-9d0e2f1fc9bc"
      },
      "execution_count": 33,
      "outputs": [
        {
          "output_type": "stream",
          "name": "stdout",
          "text": [
            "True\n",
            "{'nome': 'Maria', 'idade': 25}\n"
          ]
        }
      ]
    },
    {
      "cell_type": "code",
      "source": [
        "# Importe a biblioteca NumPy\n",
        "import numpy as np\n",
        "\n",
        "# Crie um array NumPy de números inteiros\n",
        "my_array = np.array([1, 2, 3, 4, 5])\n",
        "\n",
        "# Imprima o array\n",
        "print(\"Array original:\")\n",
        "\n",
        "print(my_array)\n",
        "\n",
        "# Realize operações matemáticas com o array\n",
        "squared_array = my_array ** 2  # Eleva cada elemento ao quadrado\n",
        "\n",
        "sum_of_elements = np.sum(my_array)  # Calcula a soma de todos os elementos\n",
        "\n",
        "# Imprima os resultados\n",
        "print(\"\\nArray ao quadrado:\")\n",
        "print(squared_array)\n",
        "print(\"\\nSoma dos elementos:\")\n",
        "print(sum_of_elements)\n",
        "\n",
        "# Acesse elementos do array\n",
        "\n",
        "element_at_index_2 = my_array[2]  # Acessa o elemento no índice 2\n",
        "\n",
        "print(\"\\nElemento no índice 2:\", element_at_index_2)\n",
        "\n",
        "#Resultado\n",
        "#Array original:\n",
        "#[1 2 3 4 5]\n",
        "#Array ao quadrado:\n",
        "#[1 4 9 16 25]\n",
        "#Soma dos elementos:\n",
        "#15\n",
        "#Elemento no índice 2: 3"
      ],
      "metadata": {
        "id": "rXCCpZKAaYUA",
        "colab": {
          "base_uri": "https://localhost:8080/"
        },
        "outputId": "8b09e58f-62d3-45d5-8b77-ffbebea1fc0f"
      },
      "execution_count": 34,
      "outputs": [
        {
          "output_type": "stream",
          "name": "stdout",
          "text": [
            "Array original:\n",
            "[1 2 3 4 5]\n",
            "\n",
            "Array ao quadrado:\n",
            "[ 1  4  9 16 25]\n",
            "\n",
            "Soma dos elementos:\n",
            "15\n",
            "\n",
            "Elemento no índice 2: 3\n"
          ]
        }
      ]
    },
    {
      "cell_type": "code",
      "source": [
        "# Importe as bibliotecas necessárias\n",
        "\n",
        "import numpy as np\n",
        "\n",
        "# Dados dos participantes\n",
        "\n",
        "participantes = [\n",
        "\n",
        "    {\n",
        "        \"nome\": \"Alice\",\n",
        "        \"localizacao\": \"EUA\",\n",
        "        \"afiliacao\": \"Universidade A\",\n",
        "        \"interesses\": [\"Física\", \"Astronomia\"]\n",
        "    },\n",
        "\n",
        "    {\n",
        "        \"nome\": \"Bob\",\n",
        "        \"localizacao\": \"Brasil\",\n",
        "        \"afiliacao\": \"Instituto B\", # Added a comma here\n",
        "        \"interesses\": [\"Biologia\", \"Astronomia\"]\n",
        "    },\n",
        "\n",
        "    {\n",
        "        \"nome\": \"Charlie\",\n",
        "        \"localizacao\": \"Índia\",\n",
        "        \"afiliacao\": \"Instituto C\",\n",
        "        \"interesses\": [\"Química\", \"Engenharia\"]\n",
        "    }\n",
        "\n",
        "    # Adicione mais participantes conforme necessário\n",
        "\n",
        "]\n",
        "\n",
        "# Usando sets para identificar diferentes regiões dos participantes\n",
        "\n",
        "regioes = set(participante[\"localizacao\"] for participante in participantes)\n",
        "\n",
        "# Usando um dicionário para categorizar afiliações\n",
        "\n",
        "afiliacoes = {}\n",
        "for participante in participantes:\n",
        "    afiliacao = participante[\"afiliacao\"]\n",
        "    if afiliacao not in afiliacoes:\n",
        "        afiliacoes[afiliacao] = []\n",
        "    afiliacoes[afiliacao].append(participante[\"nome\"])\n",
        "\n",
        "# Usando NumPy para analisar áreas de interesse\n",
        "\n",
        "areas_de_interesse = np.array([interesse for participante in participantes for interesse in participante[\"interesses\"]])\n",
        "\n",
        "intereses_unicos, contagem = np.unique(areas_de_interesse, return_counts=True)\n",
        "\n",
        "area_mais_popular = intereses_unicos[np.argmax(contagem)]\n",
        "\n",
        "# Resultados\n",
        "\n",
        "print(\"Regiões dos participantes:\", regioes)\n",
        "\n",
        "print(\"Afiliações dos participantes:\")\n",
        "\n",
        "for afiliacao, nomes in afiliacoes.items():\n",
        "\n",
        "    print(f\"{afiliacao}: {', '.join(nomes)}\")\n",
        "\n",
        "print(\"Área de interesse mais popular:\", area_mais_popular)\n",
        "\n",
        "#Resultado:\n",
        "#Regiões dos participantes: {'Índia', 'EUA', 'Brasil'}\n",
        "#Afiliações dos participantes:\n",
        "#Universidade A: Alice\n",
        "#Instituto B: Bob\n",
        "#Instituto C: Charlie\n",
        "#Área de interesse mais popular: Astronomia"
      ],
      "metadata": {
        "id": "hJ_CjEa8ac5o",
        "colab": {
          "base_uri": "https://localhost:8080/"
        },
        "outputId": "20498c59-8ae8-4a52-d0b6-8dfac6c6676f"
      },
      "execution_count": 35,
      "outputs": [
        {
          "output_type": "stream",
          "name": "stdout",
          "text": [
            "Regiões dos participantes: {'EUA', 'Brasil', 'Índia'}\n",
            "Afiliações dos participantes:\n",
            "Universidade A: Alice\n",
            "Instituto B: Bob\n",
            "Instituto C: Charlie\n",
            "Área de interesse mais popular: Astronomia\n"
          ]
        }
      ]
    },
    {
      "cell_type": "markdown",
      "source": [
        "AULA 03 CLASSES E METODOS EM PYTHON"
      ],
      "metadata": {
        "id": "RpdILK8Anz2q"
      }
    },
    {
      "cell_type": "code",
      "source": [
        "# Define uma classe chamada Pessoa.\n",
        "\n",
        "class Pessoa:\n",
        "\n",
        "    # O método __init__ é um construtor, chamado quando um objeto da classe é criado.\n",
        "    # Ele inicializa os atributos da classe.\n",
        "\n",
        "    def __init__(self, nome, idade, genero):\n",
        "\n",
        "        # self é uma convenção em Python que se refere à própria instância da classe.\n",
        "        # Os parâmetros nome, idade e gênero são passados durante a criação do objeto.\n",
        "        # Eles são usados para inicializar os atributos da instância.\n",
        "\n",
        "        self.nome = nome  # Atribui o valor de nome ao atributo nome da instância.\n",
        "\n",
        "        self.idade = idade  # Atribui o valor de idade ao atributo idade da instância.\n",
        "\n",
        "        self.genero = genero  # Atribui o valor de gênero ao atributo gênero da instância.\n",
        "\n",
        "    # O método cumprimentar retorna uma saudação com o nome da pessoa.\n",
        "\n",
        "    def cumprimentar(self):\n",
        "\n",
        "        return f\"Olá, meu nome é {self.nome}.\"\n",
        "\n",
        "    # O método aniversário aumenta a idade da pessoa em 1.\n",
        "\n",
        "    def aniversario(self):\n",
        "\n",
        "        self.idade += 1\n",
        "\n",
        "# Cria uma instância da classe “Pessoa” com os valores “João”, 30 e “Masculino” para nome, idade e gênero, respectivamente.\n",
        "\n",
        "pessoa1 = Pessoa(\"João\", 30, \"Masculino\")\n",
        "\n",
        "# Chama o método “cumprimentar” na instância pessoa1 e imprime a saudação.\n",
        "\n",
        "print(pessoa1.cumprimentar())  # Saída: “Olá, meu nome é João.”\n",
        "\n",
        "# Acessa o atributo idade da instância pessoa1 e imprime sua idade.\n",
        "\n",
        "print(f\"Idade: {pessoa1.idade}\")  # Saída: “Idade: 30”\n",
        "\n",
        "# Chama o método “aniversário” na instância pessoa1 para aumentar sua idade em 1.\n",
        "\n",
        "pessoa1.aniversario()\n",
        "\n",
        "# Acessa o atributo idade atualizado da instância pessoa1 e imprime a nova idade.\n",
        "\n",
        "print(f\"Nova idade: {pessoa1.idade}\")  # Saída: “Nova idade: 31”"
      ],
      "metadata": {
        "colab": {
          "base_uri": "https://localhost:8080/"
        },
        "id": "R1oX2KWmn5D5",
        "outputId": "48f9c083-38ca-4127-c37c-3266649a763a"
      },
      "execution_count": 36,
      "outputs": [
        {
          "output_type": "stream",
          "name": "stdout",
          "text": [
            "Olá, meu nome é João.\n",
            "Idade: 30\n",
            "Nova idade: 31\n"
          ]
        }
      ]
    },
    {
      "cell_type": "code",
      "source": [
        "#CODIGO LIMPO SEM AS EXPLICAÇÕES\n",
        "\n",
        "class Pessoa:\n",
        "    def __init__(self, nome, idade, genero):\n",
        "        self.nome = nome\n",
        "        self.idade = idade\n",
        "        self.genero = genero\n",
        "\n",
        "    def cumprimentar(self):\n",
        "        return f\"Olá, meu nome é {self.nome}.\"\n",
        "\n",
        "    def aniversario(self):\n",
        "        self.idade += 1\n",
        "\n",
        "pessoa1 = Pessoa(\"William\", 35, \"Masculino\")\n",
        "print(pessoa1.cumprimentar())\n",
        "print(f\"Idade: {pessoa1.idade}\")\n",
        "pessoa1.aniversario()\n",
        "print(f\"Nova idade: {pessoa1.idade}\")\n",
        "\n",
        "pessoa2 = Pessoa(\"Lu\", 40, \"Feminino\")\n",
        "print(pessoa2.cumprimentar())\n",
        "print(f\"Idade: {pessoa2.idade}\")\n",
        "pessoa2.aniversario()\n",
        "print(f\"Nova idade: {pessoa2.idade}\")\n",
        "\n",
        "pessoa3 = Pessoa(\"Marcos\", 6, \"Masculino\")\n",
        "print(pessoa3.cumprimentar())\n",
        "print(f\"Idade: {pessoa3.idade}\")\n",
        "pessoa3.aniversario()\n",
        "print(f\"Nova idade: {pessoa3.idade}\")\n",
        "\n",
        "pessoa4 = Pessoa(\"Fernanda\", 12, \"Feminino\")\n",
        "print(pessoa4.cumprimentar())\n",
        "print(f\"Idade: {pessoa4.idade}\")\n",
        "pessoa4.aniversario()\n",
        "print(f\"Nova idade: {pessoa4.idade}\")\n"
      ],
      "metadata": {
        "colab": {
          "base_uri": "https://localhost:8080/"
        },
        "id": "l3n1zxzZomM_",
        "outputId": "38e1a3ef-efc2-4b19-aa31-5f383969b9b6"
      },
      "execution_count": 37,
      "outputs": [
        {
          "output_type": "stream",
          "name": "stdout",
          "text": [
            "Olá, meu nome é William.\n",
            "Idade: 35\n",
            "Nova idade: 36\n",
            "Olá, meu nome é Lu.\n",
            "Idade: 40\n",
            "Nova idade: 41\n",
            "Olá, meu nome é Marcos.\n",
            "Idade: 6\n",
            "Nova idade: 7\n",
            "Olá, meu nome é Fernanda.\n",
            "Idade: 12\n",
            "Nova idade: 13\n"
          ]
        }
      ]
    },
    {
      "cell_type": "code",
      "source": [
        "#Sobre classes Filhas e Classes Pai\n",
        "\n",
        "#uma breve estruturação de como é\n",
        "\n",
        "class ClasseFilha(ClassePai):\n",
        "\n",
        "# Definição da classe-filha\n",
        "\n",
        "class ClasseFilha(ClassePai1, ClassePai2, ClassePai3):\n",
        "\n",
        "    # Definição da classe-filha"
      ],
      "metadata": {
        "colab": {
          "base_uri": "https://localhost:8080/",
          "height": 106
        },
        "id": "X96QyyiMp4va",
        "outputId": "3a5bae7b-1da0-470c-f0a3-c6a39b6b677d"
      },
      "execution_count": 38,
      "outputs": [
        {
          "output_type": "error",
          "ename": "IndentationError",
          "evalue": "expected an indented block after class definition on line 5 (ipython-input-960151945.py, line 9)",
          "traceback": [
            "\u001b[0;36m  File \u001b[0;32m\"/tmp/ipython-input-960151945.py\"\u001b[0;36m, line \u001b[0;32m9\u001b[0m\n\u001b[0;31m    class ClasseFilha(ClassePai1, ClassePai2, ClassePai3):\u001b[0m\n\u001b[0m    ^\u001b[0m\n\u001b[0;31mIndentationError\u001b[0m\u001b[0;31m:\u001b[0m expected an indented block after class definition on line 5\n"
          ]
        }
      ]
    },
    {
      "cell_type": "markdown",
      "source": [
        "Reutilização de Código"
      ],
      "metadata": {
        "id": "DwFFMeN9oM6E"
      }
    },
    {
      "cell_type": "code",
      "source": [
        "#exemplo pratico de classe filha\n",
        "\n",
        "class Animal:\n",
        "    def __init__(self, nome):\n",
        "        self.nome = nome\n",
        "    def fazer_barulho(self):\n",
        "\n",
        "        pass\n",
        "\n",
        "class Cachorro(Animal):\n",
        "    def fazer_barulho(self):\n",
        "        return \"Latir\"\n",
        "\n",
        "class Gato(Animal):\n",
        "    def fazer_barulho(self):\n",
        "        return \"Miar\"\n"
      ],
      "metadata": {
        "id": "B-tuaV4qoJ8k"
      },
      "execution_count": 48,
      "outputs": []
    },
    {
      "cell_type": "code",
      "source": [
        "# Criando objetos das classes-filhas\n",
        "\n",
        "rex = Cachorro(\"Rex\")\n",
        "whiskers = Gato(\"Whiskers\")\n"
      ],
      "metadata": {
        "id": "4oeLFRzZqec3"
      },
      "execution_count": 49,
      "outputs": []
    },
    {
      "cell_type": "code",
      "source": [
        "# Chamando o método fazer_barulho em objetos\n",
        "\n",
        "print(f\"{rex.nome} faz: {rex.fazer_barulho()}\")  # Saída: “Rex faz: Latir”\n",
        "print(f\"{whiskers.nome} faz: {whiskers.fazer_barulho()}\")  # Saída: “Whiskers faz: Miar”"
      ],
      "metadata": {
        "colab": {
          "base_uri": "https://localhost:8080/"
        },
        "id": "1zx3OSt2qhYl",
        "outputId": "a83500b3-1bea-495d-92df-0c1251f0107f"
      },
      "execution_count": 50,
      "outputs": [
        {
          "output_type": "stream",
          "name": "stdout",
          "text": [
            "Rex faz: Latir\n",
            "Whiskers faz: Miar\n"
          ]
        }
      ]
    },
    {
      "cell_type": "markdown",
      "source": [],
      "metadata": {
        "id": "gHKSCOsAoMdP"
      }
    },
    {
      "cell_type": "markdown",
      "source": [
        "EXERCICIO DA AULA"
      ],
      "metadata": {
        "id": "aZaA2Ag3oSoD"
      }
    },
    {
      "cell_type": "code",
      "source": [
        "class Veiculo:\n",
        "\n",
        "    def __init__(self, marca, modelo, ano):\n",
        "        self.marca = marca\n",
        "        self.modelo = modelo\n",
        "        self.ano = ano\n",
        "        self.velocidade = 0\n",
        "\n",
        "    def acelerar(self, incremento):\n",
        "        self.velocidade += incremento\n",
        "\n",
        "    def frear(self, decremento):\n",
        "        self.velocidade -= decremento\n",
        "\n",
        "    def status(self):\n",
        "        return f\"Marca: {self.marca}, Modelo: {self.modelo}, Ano: {self.ano}, Velocidade: {self.velocidade} km/h\"\n",
        "\n",
        "class Carro(Veiculo):\n",
        "    def __init__(self, marca, modelo, ano, potencia):\n",
        "        super().__init__(marca, modelo, ano)\n",
        "        self.potencia = potencia\n",
        "\n",
        "    def acelerar(self, incremento):\n",
        "        # Carros podem acelerar mais rápido.\n",
        "        self.velocidade += incremento + self.potencia\n",
        "\n",
        "class Bicicleta(Veiculo):\n",
        "    def __init__(self, marca, modelo, ano, tipo):\n",
        "        super().__init__(marca, modelo, ano)\n",
        "        self.tipo = tipo\n",
        "\n",
        "    def status(self):\n",
        "        return f\"Marca: {self.marca}, Modelo: {self.modelo}, Ano: {self.ano}, Tipo: {self.tipo}, Velocidade: {self.velocidade} km/h\"\n",
        "\n",
        "# Criando objetos\n",
        "carro1 = Carro(\"Toyota\", \"Corolla\", 2022, 150)\n",
        "bicicleta1 = Bicicleta(\"Trek\", \"Mountain Bike\", 2021, \"MTB\")\n",
        "\n",
        "# Acelerando e verificando o status\n",
        "carro1.acelerar(50)\n",
        "bicicleta1.acelerar(20)\n",
        "\n",
        "# Exibindo o status dos veículos\n",
        "print(\"Status do Carro:\")\n",
        "print(carro1.status())\n",
        "\n",
        "print(\"\\nStatus da Bicicleta:\")\n",
        "print(bicicleta1.status())"
      ],
      "metadata": {
        "colab": {
          "base_uri": "https://localhost:8080/"
        },
        "id": "gfyUEA4CoGxi",
        "outputId": "c7023b9e-bc35-4cc3-dfe4-af0dc296b029"
      },
      "execution_count": 51,
      "outputs": [
        {
          "output_type": "stream",
          "name": "stdout",
          "text": [
            "Status do Carro:\n",
            "Marca: Toyota, Modelo: Corolla, Ano: 2022, Velocidade: 200 km/h\n",
            "\n",
            "Status da Bicicleta:\n",
            "Marca: Trek, Modelo: Mountain Bike, Ano: 2021, Tipo: MTB, Velocidade: 20 km/h\n"
          ]
        }
      ]
    },
    {
      "cell_type": "markdown",
      "source": [
        "AULA 04 - BIBLIOTECAS E MODULOS EM PYTHON"
      ],
      "metadata": {
        "id": "RIefPib0sx8E"
      }
    },
    {
      "cell_type": "markdown",
      "source": [
        "BIBLIOTECA DE MATH - BASICAMENTE DE CALCULOS MATEMATICOS"
      ],
      "metadata": {
        "id": "ztc4v3xctj3X"
      }
    },
    {
      "cell_type": "code",
      "source": [
        "#Aula dividida em 3 blocos\n",
        "\n",
        "#Bloco 01 - Modulos e Bibliotecas Pyhton\n",
        "#Bloco 02 - Classificação de modulos (built-in de terceiros e proprios)\n",
        "#Bloco 03 - Matplotlib"
      ],
      "metadata": {
        "id": "en96I47H2x3z"
      },
      "execution_count": 52,
      "outputs": []
    },
    {
      "cell_type": "markdown",
      "source": [
        "BLOCO 01 - MODULOS E BIBLIOTECAS PYHTON\n",
        "\n",
        "De acordo com a documentação oficial do Python, é recomendável separar funcionalidades que podem ser reutilizadas em módulos distintos. Essa abordagem de modularização ajuda a manter o código mais organizado e legível, facilitando a manutenção e a reutilização de componentes.\n",
        "\n",
        "Mas, afinal, o que são módulos? São componentes de código que servem como bibliotecas ou conjuntos de funções em Python. Eles abrigam uma variedade de funcionalidades, incluindo operações matemáticas, interações com o sistema operacional e muitas outras atividades. Módulos representam uma maneira elegante e eficaz de reutilizar código em diferentes partes de um programa ou em projetos distintos."
      ],
      "metadata": {
        "id": "JJWAVf3P3H6d"
      }
    },
    {
      "cell_type": "code",
      "source": [
        "#primeiro modo de importação\n",
        "import math\n",
        "\n",
        "\n",
        "math.sqrt(25)\n",
        "math.log2(1024)\n",
        "math.cos(45)\n"
      ],
      "metadata": {
        "colab": {
          "base_uri": "https://localhost:8080/"
        },
        "id": "4oWRNx7WtIwE",
        "outputId": "f936e661-c3c3-4f8a-d58d-e7ac95b266f7"
      },
      "execution_count": 53,
      "outputs": [
        {
          "output_type": "execute_result",
          "data": {
            "text/plain": [
              "0.5253219888177297"
            ]
          },
          "metadata": {},
          "execution_count": 53
        }
      ]
    },
    {
      "cell_type": "code",
      "source": [
        "#segundo modo de importação\n",
        "import math as m\n",
        "\n",
        "m.sqrt(25)\n",
        "m.log2(1024)\n",
        "m.cos(45)\n",
        "\n"
      ],
      "metadata": {
        "colab": {
          "base_uri": "https://localhost:8080/"
        },
        "id": "MyC5t8OttyPC",
        "outputId": "6b953134-2ac9-4ae3-bf9d-098a9e33795d"
      },
      "execution_count": 54,
      "outputs": [
        {
          "output_type": "execute_result",
          "data": {
            "text/plain": [
              "0.5253219888177297"
            ]
          },
          "metadata": {},
          "execution_count": 54
        }
      ]
    },
    {
      "cell_type": "code",
      "source": [
        "#terceiro modo de imposrtação\n",
        "from math import sqrt, log2, cos\n",
        "\n",
        "sqrt(25)\n",
        "log2(1024)\n",
        "cos(45)\n",
        "\n",
        "#resultado para todos: 0.5253219888177297"
      ],
      "metadata": {
        "colab": {
          "base_uri": "https://localhost:8080/"
        },
        "id": "aTY2xjZntzUq",
        "outputId": "457c7526-4218-4999-9993-64a0bcbe1706"
      },
      "execution_count": 55,
      "outputs": [
        {
          "output_type": "execute_result",
          "data": {
            "text/plain": [
              "0.5253219888177297"
            ]
          },
          "metadata": {},
          "execution_count": 55
        }
      ]
    },
    {
      "cell_type": "markdown",
      "source": [
        "Bloco 02 - Existem 3 tipos de build-in proprios e de terceiros\n",
        "\n",
        "1 Modulos Built-in - é o tipo pronto, o que já vem instalado com o Pyhton, como:\n",
        "Math, os, svs, Random, datetime, re, collections\n",
        "\n",
        "2 - são os construidos pela comunidade Python, e disponibilizados pelo PyPi\n",
        "\n",
        "3 - são os construidos por você mesmo, para as suas determinadas atividades, ou\n",
        "seja, criados pelo desenvolvedor\n",
        "\n"
      ],
      "metadata": {
        "id": "y0rR-nQS6gQh"
      }
    },
    {
      "cell_type": "markdown",
      "source": [
        "Bloco 03 - BIBLIOTECA MATPLOTIB"
      ],
      "metadata": {
        "id": "9SJpiWkjtQwn"
      }
    },
    {
      "cell_type": "code",
      "source": [
        "import matplotlib.pyplot as plt\n",
        "\n",
        "# Dados\n",
        "\n",
        "x = [1, 2, 3, 4, 5]\n",
        "y = [2, 4, 1, 3, 5]\n",
        "\n",
        "# Criar um gráfico de linha\n",
        "plt.plot(x, y)\n",
        "\n",
        "# Adicionar rótulos aos eixos\n",
        "\n",
        "plt.xlabel('Eixo X')\n",
        "plt.ylabel('Eixo Y')\n",
        "\n",
        " # Adicionar um título ao gráfico\n",
        "plt.title('Exemplo de Gráfico de Linha')\n",
        "\n",
        "# Mostrar o gráfico\n",
        "plt.show()"
      ],
      "metadata": {
        "colab": {
          "base_uri": "https://localhost:8080/",
          "height": 472
        },
        "id": "RbTcGjH9tKEr",
        "outputId": "9f836038-1fd8-4479-93d6-80bf419af0f7"
      },
      "execution_count": 56,
      "outputs": [
        {
          "output_type": "display_data",
          "data": {
            "text/plain": [
              "<Figure size 640x480 with 1 Axes>"
            ],
            "image/png": "[encoded data removed]"
          },
          "metadata": {}
        }
      ]
    },
    {
      "cell_type": "code",
      "source": [
        "import matplotlib.pyplot as plt\n",
        "\n",
        "# Dados\n",
        "\n",
        "x = [1, 2, 3, 4, 5]\n",
        "y = [2, 4, 1, 3, 5]\n",
        "\n",
        "# Criar um gráfico de barra\n",
        "plt.bar(x, y)\n",
        "\n",
        "# Adicionar rótulos aos eixos\n",
        "\n",
        "plt.xlabel('Eixo X')\n",
        "plt.ylabel('Eixo Y')\n",
        "\n",
        " # Adicionar um título ao gráfico\n",
        "plt.title('Exemplo de Gráfico de Barras')\n",
        "\n",
        "# Mostrar o gráfico\n",
        "plt.show()"
      ],
      "metadata": {
        "colab": {
          "base_uri": "https://localhost:8080/",
          "height": 472
        },
        "id": "2qmHnv40I0V5",
        "outputId": "d72465d6-934c-4630-b891-81972d894e22"
      },
      "execution_count": 57,
      "outputs": [
        {
          "output_type": "display_data",
          "data": {
            "text/plain": [
              "<Figure size 640x480 with 1 Axes>"
            ],
            "image/png": "[encoded data removed]"
          },
          "metadata": {}
        }
      ]
    },
    {
      "cell_type": "markdown",
      "source": [
        "EXERCICIO DA AULA 04"
      ],
      "metadata": {
        "id": "xRWddzoptZqS"
      }
    },
    {
      "cell_type": "code",
      "source": [
        "import matplotlib.pyplot as plt\n",
        "\n",
        "# Dados de exemplo\n",
        "meses = ['Janeiro', 'Fevereiro', 'Março', 'Abril', 'Maio']\n",
        "vendas = [120, 90, 150, 80, 200]\n",
        "\n",
        " # Criar um gráfico de barras\n",
        "plt.bar(meses, vendas, color='royalblue')\n",
        "\n",
        " # Adicionar rótulos aos eixos\n",
        "plt.xlabel('Mês')\n",
        "plt.ylabel('Vendas (em unidades)')\n",
        "\n",
        "# Adicionar um título ao gráfico\n",
        "plt.title('Vendas Mensais')\n",
        "\n",
        "# Mostrar o gráfico\n",
        "plt.show()"
      ],
      "metadata": {
        "colab": {
          "base_uri": "https://localhost:8080/",
          "height": 472
        },
        "id": "0iLl5EvTtcah",
        "outputId": "fe9422f3-e430-4b49-a20b-207fd64fa550"
      },
      "execution_count": 58,
      "outputs": [
        {
          "output_type": "display_data",
          "data": {
            "text/plain": [
              "<Figure size 640x480 with 1 Axes>"
            ],
            "image/png": "[encoded data removed]"
          },
          "metadata": {}
        }
      ]
    },
    {
      "cell_type": "markdown",
      "source": [
        "ENCERRAMENTO DA AULA DO MODULO 02"
      ],
      "metadata": {
        "id": "0qPSgc1nKBXH"
      }
    },
    {
      "cell_type": "code",
      "source": [
        "import matplotlib.pyplot as plt\n",
        "\n",
        "# Classe para representar um livro\n",
        "\n",
        "class Livro:\n",
        "    def __init__(self, titulo, autor, ano_publicacao):\n",
        "        self.titulo = titulo\n",
        "        self.autor = autor\n",
        "        self.ano_publicacao = ano_publicacao\n",
        "\n",
        "    def __str__(self):\n",
        "        return f\"{self.titulo} por {self.autor}, Publicado em {self.ano_publicacao}\""
      ],
      "metadata": {
        "id": "rQkdJDXKR4Kq"
      },
      "execution_count": 59,
      "outputs": []
    },
    {
      "cell_type": "code",
      "source": [
        "# Criar uma lista de livros\n",
        "biblioteca = []\n",
        "\n",
        "# Criar uma lista de anos\n",
        "ano_publicacao = []\n",
        "\n",
        "# Função para adicionar um livro à biblioteca\n",
        "def adicionar_livro(titulo, autor, ano_publicacao):\n",
        "    novo_livro = Livro(titulo, autor, ano_publicacao)\n",
        "    biblioteca.append(novo_livro)\n",
        "    print(f\"{titulo}' foi adicionado à biblioteca.\")\n",
        "\n",
        "# Função para listar todos os livros na biblioteca\n",
        "def listar_livros():\n",
        "    print(\"Livros na Biblioteca atualmente\")\n",
        "    for livro in biblioteca:\n",
        "        print(livro)\n",
        "\n",
        "# Adicionar alguns livros à biblioteca\n",
        "adicionar_livro(\"Dom Quixone\", \"Miguel de Cervantes\", 1605)\n",
        "adicionar_livro(\"Orgulho e preconceito\", \"Jane Austen\", 1813)\n",
        "adicionar_livro(\"1984\", \"Georgel Orwell\", 1949)\n",
        "adicionar_livro(\"Cem anos de Solidão\", \"Gabriel Garcia MArquez\", 1967)\n",
        "adicionar_livro(\"Apanhador no campo de Centeio\", \"J. D. Salliger\", 1951)"
      ],
      "metadata": {
        "colab": {
          "base_uri": "https://localhost:8080/"
        },
        "id": "HFSy9cnwSKgm",
        "outputId": "b284aa55-1c7b-412c-873f-457d71934293"
      },
      "execution_count": 60,
      "outputs": [
        {
          "output_type": "stream",
          "name": "stdout",
          "text": [
            "Dom Quixone' foi adicionado à biblioteca.\n",
            "Orgulho e preconceito' foi adicionado à biblioteca.\n",
            "1984' foi adicionado à biblioteca.\n",
            "Cem anos de Solidão' foi adicionado à biblioteca.\n",
            "Apanhador no campo de Centeio' foi adicionado à biblioteca.\n"
          ]
        }
      ]
    },
    {
      "cell_type": "code",
      "source": [
        "# Listar todos os livros na biblioteca\n",
        "listar_livros()\n",
        "\n",
        "# Criar um gráfico de livros por ano\n",
        "anos = list(set(ano_publicacao))\n",
        "# Remove duplicatas dos anos\n",
        "anos.sort()\n",
        "\n",
        "# Contagem de livros por ano\n",
        "contagem_por_ano = [anos.count(ano) for ano in anos]\n",
        "\n",
        "# Criar um gráfico de linha\n",
        "plt.plot(anos, contagem_por_ano, marker='o', linestyle='-')\n",
        "plt.xlabel('Ano de Publicação')\n",
        "plt.ylabel('Número de Livros')\n",
        "plt.title('Distribuição de Livros na Biblioteca por Ano de Publicação')\n",
        "\n",
        "# Adicionar rótulos aos pontos de dados\n",
        "for i, valor in enumerate(contagem_por_ano):\n",
        "    plt.text(anos[i], valor, str(valor), ha='center', va='bottom')\n",
        "\n",
        "plt.grid(True)\n",
        "\n",
        "plt.show()"
      ],
      "metadata": {
        "colab": {
          "base_uri": "https://localhost:8080/",
          "height": 576
        },
        "id": "8RhcRp9KR4H-",
        "outputId": "08c8af48-09f9-4279-e032-b928436791e9"
      },
      "execution_count": 61,
      "outputs": [
        {
          "output_type": "stream",
          "name": "stdout",
          "text": [
            "Livros na Biblioteca atualmente\n",
            "Dom Quixone por Miguel de Cervantes, Publicado em 1605\n",
            "Orgulho e preconceito por Jane Austen, Publicado em 1813\n",
            "1984 por Georgel Orwell, Publicado em 1949\n",
            "Cem anos de Solidão por Gabriel Garcia MArquez, Publicado em 1967\n",
            "Apanhador no campo de Centeio por J. D. Salliger, Publicado em 1951\n"
          ]
        },
        {
          "output_type": "display_data",
          "data": {
            "text/plain": [
              "<Figure size 640x480 with 1 Axes>"
            ],
            "image/png": "[encoded data removed]"
          },
          "metadata": {}
        }
      ]
    }
  ]
}